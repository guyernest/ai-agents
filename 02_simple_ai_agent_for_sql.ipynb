{
 "cells": [
  {
   "cell_type": "markdown",
   "metadata": {},
   "source": [
    "# Simple AI Agent for SQL queries\n",
    "\n",
    "In this notebook we will build a simple AI Agent to answer the questions about Baseball players. The knowledge about the baseball players is coming from an internal SQL engine with data about the players' personal information and salaries. \n",
    "\n",
    "We will:\n",
    "\n",
    "* [Create a local SQL Database](#create-local-sql-database)\n",
    "* [Create SQL tools to help the LLM query out Database](#create-sql-tools)\n",
    "* [Create the AI Agent Flow](#llm-flow-with-tools-ai-agent)\n",
    "* [Apply First Tool Use Request from LLM](#first-tool_user-request-from-the-llm-schema)\n",
    "* [Apply Second Tool Use Request from LLM](#second-tool_user-request-from-the-llm-sql-query)\n",
    "* [Final reply from the LLM](#final-reply-from-the-llm-based-on-the-tools-used)"
   ]
  },
  {
   "cell_type": "markdown",
   "metadata": {},
   "source": [
    "### Visual improvements\n",
    "\n",
    "We will use [rich library](https://github.com/Textualize/rich), and `rich-theme-manager` to make the output more readable, and supress warning messages."
   ]
  },
  {
   "cell_type": "code",
   "execution_count": 1,
   "metadata": {},
   "outputs": [],
   "source": [
    "from rich.console import Console\n",
    "from rich_theme_manager import Theme, ThemeManager\n",
    "import pathlib\n",
    "\n",
    "theme_dir = pathlib.Path(\"themes\")\n",
    "theme_manager = ThemeManager(theme_dir=theme_dir)\n",
    "dark = theme_manager.get(\"dark\")\n",
    "\n",
    "# Create a console with the dark theme\n",
    "console = Console(theme=dark)"
   ]
  },
  {
   "cell_type": "code",
   "execution_count": 2,
   "metadata": {},
   "outputs": [],
   "source": [
    "import warnings\n",
    "\n",
    "# Suppress warnings\n",
    "warnings.filterwarnings('ignore')"
   ]
  },
  {
   "cell_type": "markdown",
   "metadata": {},
   "source": [
    "## Create local SQL database\n",
    "\n",
    "We will load a couple of CSV files and create a local SQL database from their data."
   ]
  },
  {
   "cell_type": "code",
   "execution_count": 13,
   "metadata": {},
   "outputs": [],
   "source": [
    "import sqlite3\n",
    "import pandas as pd\n",
    "\n",
    "def create_database_from_csv(db_name, csv_files):\n",
    "    \"\"\"Creates a SQLite database from multiple CSV files.\"\"\"\n",
    "\n",
    "    conn = sqlite3.connect(db_name)\n",
    "\n",
    "    for csv_file in csv_files:\n",
    "        # Read CSV into a DataFrame\n",
    "        df = pd.read_csv(csv_file)\n",
    "\n",
    "        # Get table name from CSV filename (without extension)\n",
    "        table_name = csv_file.split('/')[-1].split('.')[0]\n",
    "\n",
    "        # Create table and load data\n",
    "        df.to_sql(table_name, conn, if_exists='replace', index=False)\n",
    "\n",
    "    conn.close()\n",
    "\n"
   ]
  },
  {
   "cell_type": "code",
   "execution_count": 14,
   "metadata": {},
   "outputs": [],
   "source": [
    "\n",
    "csv_files = ['data/player.csv', 'data/salary.csv']  # Replace with your CSV file names\n",
    "db_name = 'baseball.db'\n",
    "create_database_from_csv(db_name, csv_files)"
   ]
  },
  {
   "cell_type": "code",
   "execution_count": 16,
   "metadata": {},
   "outputs": [
    {
     "data": {
      "text/plain": [
       "[(18846,)]"
      ]
     },
     "execution_count": 16,
     "metadata": {},
     "output_type": "execute_result"
    }
   ],
   "source": [
    "conn = sqlite3.connect(db_name)\n",
    "conn.execute(\"SELECT name FROM sqlite_master WHERE type='table'\").fetchall()\n",
    "conn.execute(\"SELECT count(*) FROM player\").fetchall()"
   ]
  },
  {
   "cell_type": "code",
   "execution_count": 20,
   "metadata": {},
   "outputs": [
    {
     "data": {
      "text/plain": [
       "True"
      ]
     },
     "execution_count": 20,
     "metadata": {},
     "output_type": "execute_result"
    }
   ],
   "source": [
    "from dotenv import load_dotenv\n",
    "\n",
    "load_dotenv()"
   ]
  },
  {
   "cell_type": "code",
   "execution_count": 58,
   "metadata": {},
   "outputs": [],
   "source": [
    "# user_prompt = \"In which US state most baseball players were born in 1990?\"\n",
    "user_prompt = \"In which US state most baseball players who were in the top 100 richest player in 2010 were born?\""
   ]
  },
  {
   "cell_type": "code",
   "execution_count": 59,
   "metadata": {},
   "outputs": [],
   "source": [
    "# Now time to connect to the large language model\n",
    "from openai import OpenAI\n",
    "\n",
    "openai_client = OpenAI()\n",
    "completion = openai_client.chat.completions.create(\n",
    "    model=\"gpt-4\",\n",
    "    messages=[\n",
    "        {\n",
    "            \"role\": \"system\", \n",
    "            \"content\": \"You are chatbot, who is helping people with answers to their questions.\"\n",
    "        },\n",
    "        {\n",
    "            \"role\": \"user\", \n",
    "            \"content\": \n",
    "                [\n",
    "                    {\"type\": \"text\", \"text\": user_prompt},\n",
    "                ],\n",
    "        },\n",
    "    ]\n",
    ")"
   ]
  },
  {
   "cell_type": "code",
   "execution_count": 60,
   "metadata": {},
   "outputs": [
    {
     "data": {
      "text/html": [
       "<pre style=\"white-space:pre;overflow-x:auto;line-height:normal;font-family:Menlo,'DejaVu Sans Mono',consolas,'Courier New',monospace\"><span style=\"color: #008000; text-decoration-color: #008000; font-weight: bold\">╭─────── In which US state most baseball players who were in the top 100 richest player in 2010 were born? ───────╮</span>\n",
       "<span style=\"color: #008000; text-decoration-color: #008000; font-weight: bold\">│</span>                                                                                                                 <span style=\"color: #008000; text-decoration-color: #008000; font-weight: bold\">│</span>\n",
       "<span style=\"color: #008000; text-decoration-color: #008000; font-weight: bold\">│</span> I'm sorry, I don't have specific information about where the top 100 richest baseball players in 2010 were      <span style=\"color: #008000; text-decoration-color: #008000; font-weight: bold\">│</span>\n",
       "<span style=\"color: #008000; text-decoration-color: #008000; font-weight: bold\">│</span> born. Generally speaking, California, Texas, and Florida are U.S states that have produced many professional    <span style=\"color: #008000; text-decoration-color: #008000; font-weight: bold\">│</span>\n",
       "<span style=\"color: #008000; text-decoration-color: #008000; font-weight: bold\">│</span> baseball players due to large populations and year-round playable weather, but I can't confirm these states for <span style=\"color: #008000; text-decoration-color: #008000; font-weight: bold\">│</span>\n",
       "<span style=\"color: #008000; text-decoration-color: #008000; font-weight: bold\">│</span> the specific year and criteria you mentioned without access to detailed records or statistics. For the most     <span style=\"color: #008000; text-decoration-color: #008000; font-weight: bold\">│</span>\n",
       "<span style=\"color: #008000; text-decoration-color: #008000; font-weight: bold\">│</span> accurate information, I recommend checking dedicated sports statistics websites or databases.                   <span style=\"color: #008000; text-decoration-color: #008000; font-weight: bold\">│</span>\n",
       "<span style=\"color: #008000; text-decoration-color: #008000; font-weight: bold\">│</span>                                                                                                                 <span style=\"color: #008000; text-decoration-color: #008000; font-weight: bold\">│</span>\n",
       "<span style=\"color: #008000; text-decoration-color: #008000; font-weight: bold\">╰─────────────────────────────────────────────────────────────────────────────────────────────────────────────────╯</span>\n",
       "</pre>\n"
      ],
      "text/plain": [
       "\u001b[1;32m╭─\u001b[0m\u001b[1;32m──────\u001b[0m\u001b[1;32m In which US state most baseball players who were in the top 100 richest player in 2010 were born? \u001b[0m\u001b[1;32m──────\u001b[0m\u001b[1;32m─╮\u001b[0m\n",
       "\u001b[1;32m│\u001b[0m                                                                                                                 \u001b[1;32m│\u001b[0m\n",
       "\u001b[1;32m│\u001b[0m I'm sorry, I don't have specific information about where the top 100 richest baseball players in 2010 were      \u001b[1;32m│\u001b[0m\n",
       "\u001b[1;32m│\u001b[0m born. Generally speaking, California, Texas, and Florida are U.S states that have produced many professional    \u001b[1;32m│\u001b[0m\n",
       "\u001b[1;32m│\u001b[0m baseball players due to large populations and year-round playable weather, but I can't confirm these states for \u001b[1;32m│\u001b[0m\n",
       "\u001b[1;32m│\u001b[0m the specific year and criteria you mentioned without access to detailed records or statistics. For the most     \u001b[1;32m│\u001b[0m\n",
       "\u001b[1;32m│\u001b[0m accurate information, I recommend checking dedicated sports statistics websites or databases.                   \u001b[1;32m│\u001b[0m\n",
       "\u001b[1;32m│\u001b[0m                                                                                                                 \u001b[1;32m│\u001b[0m\n",
       "\u001b[1;32m╰─────────────────────────────────────────────────────────────────────────────────────────────────────────────────╯\u001b[0m\n"
      ]
     },
     "metadata": {},
     "output_type": "display_data"
    }
   ],
   "source": [
    "from rich.panel import Panel\n",
    "from rich.text import Text\n",
    "\n",
    "response_text = Text(completion.choices[0].message.content)\n",
    "styled_panel = Panel(\n",
    "    response_text,\n",
    "    title=f\"{user_prompt}\",\n",
    "    expand=False,\n",
    "    border_style=\"bold green\",\n",
    "    padding=(1, 1)\n",
    ")\n",
    "\n",
    "console.print(styled_panel)"
   ]
  },
  {
   "cell_type": "markdown",
   "metadata": {},
   "source": [
    "The LLM can't really help us."
   ]
  },
  {
   "cell_type": "markdown",
   "metadata": {},
   "source": [
    "## Create SQL tools\n",
    "\n",
    "If the naiive approach doesn't work, let's build an AI agent that will help us solve such tasks. First we need a couple of `Tools` that can query the SQL database. There are two main tools that we need:\n",
    "* Schema Tool - that will describe to the LLM what is the schema of the database\n",
    "* SQL Query Tool - that will execute the SQL query that is requested by the LLM"
   ]
  },
  {
   "cell_type": "code",
   "execution_count": 61,
   "metadata": {},
   "outputs": [],
   "source": [
    "tools = [\n",
    "    {\n",
    "        \"name\": \"get_db_schema\",\n",
    "        \"description\": \"Describe the schema of the SQLite database, including table names, and column names and types.\",\n",
    "        \"input_schema\": {\n",
    "            \"type\": \"object\",\n",
    "            \"properties\": {}\n",
    "        }\n",
    "    },\n",
    "    {\n",
    "        \"name\": \"execute_sql_query\",\n",
    "        \"description\": \"Return the query results of the given SQL query to the SQLite database.\",\n",
    "        \"input_schema\":  {\n",
    "            \"type\": \"object\",\n",
    "            \"properties\": {\n",
    "                \"sql_query\": {\n",
    "                    \"type\": \"string\",\n",
    "                    \"description\": \"The sql query to execute against the SQLite database\"\n",
    "                },\n",
    "            },\n",
    "            \"required\": [\"sql_query\"]\n",
    "        }\n",
    "    }\n",
    "]"
   ]
  },
  {
   "cell_type": "code",
   "execution_count": 62,
   "metadata": {},
   "outputs": [],
   "source": [
    "user_initial_message = {\n",
    "    \"role\": \"user\", \n",
    "    \"content\": [\n",
    "        {\n",
    "            \"type\": \"text\",\n",
    "            \"text\": user_prompt,\n",
    "        }\n",
    "    ]\n",
    "}"
   ]
  },
  {
   "cell_type": "code",
   "execution_count": 63,
   "metadata": {},
   "outputs": [],
   "source": [
    "messages = []\n",
    "messages.append(user_initial_message)"
   ]
  },
  {
   "cell_type": "markdown",
   "metadata": {},
   "source": [
    "## LLM Flow with Tools (=AI Agent)\n",
    "\n",
    "We will ask the LLM again, but this time we will provide it with a tool."
   ]
  },
  {
   "cell_type": "code",
   "execution_count": 64,
   "metadata": {},
   "outputs": [],
   "source": [
    "import anthropic\n",
    "\n",
    "anthropic_client = anthropic.Anthropic()"
   ]
  },
  {
   "cell_type": "code",
   "execution_count": 65,
   "metadata": {},
   "outputs": [],
   "source": [
    "system_prompt = \"You are an expert business analyst with deep knowledge of SQL.\""
   ]
  },
  {
   "cell_type": "code",
   "execution_count": 66,
   "metadata": {},
   "outputs": [],
   "source": [
    "response = anthropic_client.messages.create(\n",
    "    model=\"claude-3-5-sonnet-20241022\",\n",
    "    system=system_prompt,\n",
    "    max_tokens=8192,\n",
    "    messages=messages,\n",
    "    tools=tools\n",
    ")"
   ]
  },
  {
   "cell_type": "code",
   "execution_count": 67,
   "metadata": {},
   "outputs": [
    {
     "data": {
      "text/html": [
       "<pre style=\"white-space:pre;overflow-x:auto;line-height:normal;font-family:Menlo,'DejaVu Sans Mono',consolas,'Courier New',monospace\"><span style=\"color: #ffff00; text-decoration-color: #ffff00\">Message</span><span style=\"font-weight: bold\">(</span>\n",
       "    <span style=\"color: #e87d3e; text-decoration-color: #e87d3e; font-weight: bold\">id</span>=<span style=\"color: #00ff00; text-decoration-color: #00ff00\">'msg_01VXzGnDumPQcwaUXZaHgFmp'</span>,\n",
       "    <span style=\"color: #e87d3e; text-decoration-color: #e87d3e; font-weight: bold\">content</span>=<span style=\"font-weight: bold\">[</span>\n",
       "        <span style=\"color: #ffff00; text-decoration-color: #ffff00\">TextBlock</span><span style=\"font-weight: bold\">(</span>\n",
       "            <span style=\"color: #e87d3e; text-decoration-color: #e87d3e; font-weight: bold\">text</span>=<span style=\"color: #00ff00; text-decoration-color: #00ff00\">\"Let me help you analyze this. First, I'll check the database schema to understand how to query </span>\n",
       "<span style=\"color: #00ff00; text-decoration-color: #00ff00\">this information.\"</span>,\n",
       "            <span style=\"color: #e87d3e; text-decoration-color: #e87d3e; font-weight: bold\">type</span>=<span style=\"color: #00ff00; text-decoration-color: #00ff00\">'text'</span>\n",
       "        <span style=\"font-weight: bold\">)</span>,\n",
       "        <span style=\"color: #ffff00; text-decoration-color: #ffff00\">ToolUseBlock</span><span style=\"font-weight: bold\">(</span><span style=\"color: #e87d3e; text-decoration-color: #e87d3e; font-weight: bold\">id</span>=<span style=\"color: #00ff00; text-decoration-color: #00ff00\">'toolu_014Bf99aPM5opmWVzTvjPHXv'</span>, <span style=\"color: #e87d3e; text-decoration-color: #e87d3e; font-weight: bold\">input</span>=<span style=\"font-weight: bold\">{}</span>, <span style=\"color: #e87d3e; text-decoration-color: #e87d3e; font-weight: bold\">name</span>=<span style=\"color: #00ff00; text-decoration-color: #00ff00\">'get_db_schema'</span>, <span style=\"color: #e87d3e; text-decoration-color: #e87d3e; font-weight: bold\">type</span>=<span style=\"color: #00ff00; text-decoration-color: #00ff00\">'tool_use'</span><span style=\"font-weight: bold\">)</span>\n",
       "    <span style=\"font-weight: bold\">]</span>,\n",
       "    <span style=\"color: #e87d3e; text-decoration-color: #e87d3e; font-weight: bold\">model</span>=<span style=\"color: #00ff00; text-decoration-color: #00ff00\">'claude-3-5-sonnet-20241022'</span>,\n",
       "    <span style=\"color: #e87d3e; text-decoration-color: #e87d3e; font-weight: bold\">role</span>=<span style=\"color: #00ff00; text-decoration-color: #00ff00\">'assistant'</span>,\n",
       "    <span style=\"color: #e87d3e; text-decoration-color: #e87d3e; font-weight: bold\">stop_reason</span>=<span style=\"color: #00ff00; text-decoration-color: #00ff00\">'tool_use'</span>,\n",
       "    <span style=\"color: #e87d3e; text-decoration-color: #e87d3e; font-weight: bold\">stop_sequence</span>=<span style=\"color: #dfdfdf; text-decoration-color: #dfdfdf\">None</span>,\n",
       "    <span style=\"color: #e87d3e; text-decoration-color: #e87d3e; font-weight: bold\">type</span>=<span style=\"color: #00ff00; text-decoration-color: #00ff00\">'message'</span>,\n",
       "    <span style=\"color: #e87d3e; text-decoration-color: #e87d3e; font-weight: bold\">usage</span>=<span style=\"color: #ffff00; text-decoration-color: #ffff00\">Usage</span><span style=\"font-weight: bold\">(</span><span style=\"color: #e87d3e; text-decoration-color: #e87d3e; font-weight: bold\">input_tokens</span>=<span style=\"color: #ff0000; text-decoration-color: #ff0000\">497</span>, <span style=\"color: #e87d3e; text-decoration-color: #e87d3e; font-weight: bold\">output_tokens</span>=<span style=\"color: #ff0000; text-decoration-color: #ff0000\">62</span><span style=\"font-weight: bold\">)</span>\n",
       "<span style=\"font-weight: bold\">)</span>\n",
       "</pre>\n"
      ],
      "text/plain": [
       "\u001b[93mMessage\u001b[0m\u001b[1m(\u001b[0m\n",
       "    \u001b[1;38;2;232;125;62mid\u001b[0m=\u001b[92m'msg_01VXzGnDumPQcwaUXZaHgFmp'\u001b[0m,\n",
       "    \u001b[1;38;2;232;125;62mcontent\u001b[0m=\u001b[1m[\u001b[0m\n",
       "        \u001b[93mTextBlock\u001b[0m\u001b[1m(\u001b[0m\n",
       "            \u001b[1;38;2;232;125;62mtext\u001b[0m=\u001b[92m\"Let\u001b[0m\u001b[92m me help you analyze this. First, I'll check the database schema to understand how to query \u001b[0m\n",
       "\u001b[92mthis information.\"\u001b[0m,\n",
       "            \u001b[1;38;2;232;125;62mtype\u001b[0m=\u001b[92m'text'\u001b[0m\n",
       "        \u001b[1m)\u001b[0m,\n",
       "        \u001b[93mToolUseBlock\u001b[0m\u001b[1m(\u001b[0m\u001b[1;38;2;232;125;62mid\u001b[0m=\u001b[92m'toolu_014Bf99aPM5opmWVzTvjPHXv'\u001b[0m, \u001b[1;38;2;232;125;62minput\u001b[0m=\u001b[1m{\u001b[0m\u001b[1m}\u001b[0m, \u001b[1;38;2;232;125;62mname\u001b[0m=\u001b[92m'get_db_schema'\u001b[0m, \u001b[1;38;2;232;125;62mtype\u001b[0m=\u001b[92m'tool_use'\u001b[0m\u001b[1m)\u001b[0m\n",
       "    \u001b[1m]\u001b[0m,\n",
       "    \u001b[1;38;2;232;125;62mmodel\u001b[0m=\u001b[92m'claude-3-5-sonnet-20241022'\u001b[0m,\n",
       "    \u001b[1;38;2;232;125;62mrole\u001b[0m=\u001b[92m'assistant'\u001b[0m,\n",
       "    \u001b[1;38;2;232;125;62mstop_reason\u001b[0m=\u001b[92m'tool_use'\u001b[0m,\n",
       "    \u001b[1;38;2;232;125;62mstop_sequence\u001b[0m=\u001b[2;37mNone\u001b[0m,\n",
       "    \u001b[1;38;2;232;125;62mtype\u001b[0m=\u001b[92m'message'\u001b[0m,\n",
       "    \u001b[1;38;2;232;125;62musage\u001b[0m=\u001b[93mUsage\u001b[0m\u001b[1m(\u001b[0m\u001b[1;38;2;232;125;62minput_tokens\u001b[0m=\u001b[91m497\u001b[0m, \u001b[1;38;2;232;125;62moutput_tokens\u001b[0m=\u001b[91m62\u001b[0m\u001b[1m)\u001b[0m\n",
       "\u001b[1m)\u001b[0m\n"
      ]
     },
     "metadata": {},
     "output_type": "display_data"
    }
   ],
   "source": [
    "console.print(response)"
   ]
  },
  {
   "cell_type": "markdown",
   "metadata": {},
   "source": [
    "### First tool_user request from the LLM (schema)\n",
    "\n",
    "We will append the reply from the LLM to the list of messages that includes the initial user questions. We will need it the list of the messages for the next time we call the LLM."
   ]
  },
  {
   "cell_type": "code",
   "execution_count": 68,
   "metadata": {},
   "outputs": [],
   "source": [
    "messages.append({\"role\": \"assistant\", \"content\": response.content})"
   ]
  },
  {
   "cell_type": "code",
   "execution_count": 69,
   "metadata": {},
   "outputs": [
    {
     "name": "stdout",
     "output_type": "stream",
     "text": [
      "\n",
      "Tool Used: get_db_schema\n",
      "Tool Input:\n",
      "{}\n"
     ]
    }
   ],
   "source": [
    "if response.stop_reason == \"tool_use\":\n",
    "    tool_use = next(block for block in response.content if block.type == \"tool_use\")\n",
    "    tool_name = tool_use.name\n",
    "    tool_input = tool_use.input\n",
    "    tool_use_id = tool_use.id\n",
    "\n",
    "    print(f\"\\nTool Used: {tool_name}\")\n",
    "    print(\"Tool Input:\")\n",
    "    print(tool_input)\n",
    "\n",
    "    # code_interpreter_results = process_tool_call(e2b_code_interpreter, tool_name, tool_input)\n"
   ]
  },
  {
   "cell_type": "markdown",
   "metadata": {},
   "source": [
    "We will execute the tool per the LLM request here to understand the flow."
   ]
  },
  {
   "cell_type": "code",
   "execution_count": 70,
   "metadata": {},
   "outputs": [],
   "source": [
    "import json\n",
    "\n",
    "def get_db_schema():\n",
    "    conn = sqlite3.connect('baseball.db')\n",
    "    cursor = conn.cursor()\n",
    "    \n",
    "    # Get schema for player table\n",
    "    cursor.execute(\"PRAGMA table_info(player)\")\n",
    "    player_schema = cursor.fetchall()\n",
    "    \n",
    "    # Get schema for salary table \n",
    "    cursor.execute(\"PRAGMA table_info(salary)\")\n",
    "    salary_schema = cursor.fetchall()\n",
    "    \n",
    "    conn.close()\n",
    "    \n",
    "    return json.dumps({\n",
    "        'player': player_schema,\n",
    "        'salary': salary_schema\n",
    "    })\n"
   ]
  },
  {
   "cell_type": "code",
   "execution_count": 71,
   "metadata": {},
   "outputs": [],
   "source": [
    "tool_response = {\n",
    "    \"role\": \"user\",\n",
    "    \"content\": [\n",
    "        {\n",
    "        \"type\": \"tool_result\",\n",
    "        \"tool_use_id\": tool_use.id,\n",
    "        \"content\": get_db_schema()\n",
    "        }\n",
    "    ]\n",
    "}"
   ]
  },
  {
   "cell_type": "markdown",
   "metadata": {},
   "source": [
    "### Tool Response\n",
    "\n",
    "We will append the tool response to the messages list to be sent to the LLM."
   ]
  },
  {
   "cell_type": "code",
   "execution_count": 72,
   "metadata": {},
   "outputs": [],
   "source": [
    "messages.append(tool_response)"
   ]
  },
  {
   "cell_type": "code",
   "execution_count": 73,
   "metadata": {},
   "outputs": [],
   "source": [
    "response = anthropic_client.messages.create(\n",
    "    model=\"claude-3-5-sonnet-20241022\",\n",
    "    system=system_prompt,\n",
    "    max_tokens=8192,\n",
    "    messages=messages,\n",
    "    tools=tools\n",
    ")"
   ]
  },
  {
   "cell_type": "code",
   "execution_count": 74,
   "metadata": {},
   "outputs": [
    {
     "data": {
      "text/html": [
       "<pre style=\"white-space:pre;overflow-x:auto;line-height:normal;font-family:Menlo,'DejaVu Sans Mono',consolas,'Courier New',monospace\"><span style=\"color: #ffff00; text-decoration-color: #ffff00\">Message</span><span style=\"font-weight: bold\">(</span>\n",
       "    <span style=\"color: #e87d3e; text-decoration-color: #e87d3e; font-weight: bold\">id</span>=<span style=\"color: #00ff00; text-decoration-color: #00ff00\">'msg_01QLqfyLVDDfAnKzJCDQnT6a'</span>,\n",
       "    <span style=\"color: #e87d3e; text-decoration-color: #e87d3e; font-weight: bold\">content</span>=<span style=\"font-weight: bold\">[</span>\n",
       "        <span style=\"color: #ffff00; text-decoration-color: #ffff00\">TextBlock</span><span style=\"font-weight: bold\">(</span>\n",
       "            <span style=\"color: #e87d3e; text-decoration-color: #e87d3e; font-weight: bold\">text</span>=<span style=\"color: #00ff00; text-decoration-color: #00ff00\">\"Now I'll write a query to find the US state where most of the top 100 highest-paid players in </span>\n",
       "<span style=\"color: #00ff00; text-decoration-color: #00ff00\">2010 were born. We'll need to:\\n1. Join the salary and player tables\\n2. Filter for the year 2010\\n3. Get the top </span>\n",
       "<span style=\"color: #00ff00; text-decoration-color: #00ff00\">100 players by salary\\n4. Count players by birth state\\n5. Order by the count to find the state with most </span>\n",
       "<span style=\"color: #00ff00; text-decoration-color: #00ff00\">players\\n\\nHere's the query:\"</span>,\n",
       "            <span style=\"color: #e87d3e; text-decoration-color: #e87d3e; font-weight: bold\">type</span>=<span style=\"color: #00ff00; text-decoration-color: #00ff00\">'text'</span>\n",
       "        <span style=\"font-weight: bold\">)</span>,\n",
       "        <span style=\"color: #ffff00; text-decoration-color: #ffff00\">ToolUseBlock</span><span style=\"font-weight: bold\">(</span>\n",
       "            <span style=\"color: #e87d3e; text-decoration-color: #e87d3e; font-weight: bold\">id</span>=<span style=\"color: #00ff00; text-decoration-color: #00ff00\">'toolu_01LyspxHTd4Dh4YtpjCUUi8G'</span>,\n",
       "            <span style=\"color: #e87d3e; text-decoration-color: #e87d3e; font-weight: bold\">input</span>=<span style=\"font-weight: bold\">{</span>\n",
       "                <span style=\"color: #00ff00; text-decoration-color: #00ff00\">'sql_query'</span>: <span style=\"color: #00ff00; text-decoration-color: #00ff00\">\"WITH top_100_2010 AS </span><span style=\"color: #00ff00; text-decoration-color: #00ff00; font-weight: bold\">(</span><span style=\"color: #00ff00; text-decoration-color: #00ff00\">\\n    SELECT p.*, s.salary\\n    FROM salary s\\n    JOIN player </span>\n",
       "<span style=\"color: #00ff00; text-decoration-color: #00ff00\">p ON s.player_id = p.player_id\\n    WHERE s.year = 2010\\n    ORDER BY s.salary DESC\\n    LIMIT 100\\n</span><span style=\"color: #00ff00; text-decoration-color: #00ff00; font-weight: bold\">)</span><span style=\"color: #00ff00; text-decoration-color: #00ff00\">\\nSELECT </span>\n",
       "<span style=\"color: #00ff00; text-decoration-color: #00ff00\">birth_state, COUNT</span><span style=\"color: #00ff00; text-decoration-color: #00ff00; font-weight: bold\">(</span><span style=\"color: #00ff00; text-decoration-color: #00ff00\">*</span><span style=\"color: #00ff00; text-decoration-color: #00ff00; font-weight: bold\">)</span><span style=\"color: #00ff00; text-decoration-color: #00ff00\"> as player_count\\nFROM top_100_2010\\nWHERE birth_country = 'USA'\\nGROUP BY birth_state\\nORDER </span>\n",
       "<span style=\"color: #00ff00; text-decoration-color: #00ff00\">BY player_count DESC\\nLIMIT 1;\"</span>\n",
       "            <span style=\"font-weight: bold\">}</span>,\n",
       "            <span style=\"color: #e87d3e; text-decoration-color: #e87d3e; font-weight: bold\">name</span>=<span style=\"color: #00ff00; text-decoration-color: #00ff00\">'execute_sql_query'</span>,\n",
       "            <span style=\"color: #e87d3e; text-decoration-color: #e87d3e; font-weight: bold\">type</span>=<span style=\"color: #00ff00; text-decoration-color: #00ff00\">'tool_use'</span>\n",
       "        <span style=\"font-weight: bold\">)</span>\n",
       "    <span style=\"font-weight: bold\">]</span>,\n",
       "    <span style=\"color: #e87d3e; text-decoration-color: #e87d3e; font-weight: bold\">model</span>=<span style=\"color: #00ff00; text-decoration-color: #00ff00\">'claude-3-5-sonnet-20241022'</span>,\n",
       "    <span style=\"color: #e87d3e; text-decoration-color: #e87d3e; font-weight: bold\">role</span>=<span style=\"color: #00ff00; text-decoration-color: #00ff00\">'assistant'</span>,\n",
       "    <span style=\"color: #e87d3e; text-decoration-color: #e87d3e; font-weight: bold\">stop_reason</span>=<span style=\"color: #00ff00; text-decoration-color: #00ff00\">'tool_use'</span>,\n",
       "    <span style=\"color: #e87d3e; text-decoration-color: #e87d3e; font-weight: bold\">stop_sequence</span>=<span style=\"color: #dfdfdf; text-decoration-color: #dfdfdf\">None</span>,\n",
       "    <span style=\"color: #e87d3e; text-decoration-color: #e87d3e; font-weight: bold\">type</span>=<span style=\"color: #00ff00; text-decoration-color: #00ff00\">'message'</span>,\n",
       "    <span style=\"color: #e87d3e; text-decoration-color: #e87d3e; font-weight: bold\">usage</span>=<span style=\"color: #ffff00; text-decoration-color: #ffff00\">Usage</span><span style=\"font-weight: bold\">(</span><span style=\"color: #e87d3e; text-decoration-color: #e87d3e; font-weight: bold\">input_tokens</span>=<span style=\"color: #ff0000; text-decoration-color: #ff0000\">995</span>, <span style=\"color: #e87d3e; text-decoration-color: #e87d3e; font-weight: bold\">output_tokens</span>=<span style=\"color: #ff0000; text-decoration-color: #ff0000\">272</span><span style=\"font-weight: bold\">)</span>\n",
       "<span style=\"font-weight: bold\">)</span>\n",
       "</pre>\n"
      ],
      "text/plain": [
       "\u001b[93mMessage\u001b[0m\u001b[1m(\u001b[0m\n",
       "    \u001b[1;38;2;232;125;62mid\u001b[0m=\u001b[92m'msg_01QLqfyLVDDfAnKzJCDQnT6a'\u001b[0m,\n",
       "    \u001b[1;38;2;232;125;62mcontent\u001b[0m=\u001b[1m[\u001b[0m\n",
       "        \u001b[93mTextBlock\u001b[0m\u001b[1m(\u001b[0m\n",
       "            \u001b[1;38;2;232;125;62mtext\u001b[0m=\u001b[92m\"Now\u001b[0m\u001b[92m I'll write a query to find the US state where most of the top 100 highest-paid players in \u001b[0m\n",
       "\u001b[92m2010 were born. We'll need to:\\n1. Join the salary and player tables\\n2. Filter for the year 2010\\n3. Get the top \u001b[0m\n",
       "\u001b[92m100 players by salary\\n4. Count players by birth state\\n5. Order by the count to find the state with most \u001b[0m\n",
       "\u001b[92mplayers\\n\\nHere's the query:\"\u001b[0m,\n",
       "            \u001b[1;38;2;232;125;62mtype\u001b[0m=\u001b[92m'text'\u001b[0m\n",
       "        \u001b[1m)\u001b[0m,\n",
       "        \u001b[93mToolUseBlock\u001b[0m\u001b[1m(\u001b[0m\n",
       "            \u001b[1;38;2;232;125;62mid\u001b[0m=\u001b[92m'toolu_01LyspxHTd4Dh4YtpjCUUi8G'\u001b[0m,\n",
       "            \u001b[1;38;2;232;125;62minput\u001b[0m=\u001b[1m{\u001b[0m\n",
       "                \u001b[92m'sql_query'\u001b[0m: \u001b[92m\"WITH top_100_2010 AS \u001b[0m\u001b[1;92m(\u001b[0m\u001b[92m\\n    SELECT p.*, s.salary\\n    FROM salary s\\n    JOIN player \u001b[0m\n",
       "\u001b[92mp ON s.player_id = p.player_id\\n    WHERE s.year = 2010\\n    ORDER BY s.salary DESC\\n    LIMIT 100\\n\u001b[0m\u001b[1;92m)\u001b[0m\u001b[92m\\nSELECT \u001b[0m\n",
       "\u001b[92mbirth_state, COUNT\u001b[0m\u001b[1;92m(\u001b[0m\u001b[92m*\u001b[0m\u001b[1;92m)\u001b[0m\u001b[92m as player_count\\nFROM top_100_2010\\nWHERE birth_country = 'USA'\\nGROUP BY birth_state\\nORDER \u001b[0m\n",
       "\u001b[92mBY player_count DESC\\nLIMIT 1;\"\u001b[0m\n",
       "            \u001b[1m}\u001b[0m,\n",
       "            \u001b[1;38;2;232;125;62mname\u001b[0m=\u001b[92m'execute_sql_query'\u001b[0m,\n",
       "            \u001b[1;38;2;232;125;62mtype\u001b[0m=\u001b[92m'tool_use'\u001b[0m\n",
       "        \u001b[1m)\u001b[0m\n",
       "    \u001b[1m]\u001b[0m,\n",
       "    \u001b[1;38;2;232;125;62mmodel\u001b[0m=\u001b[92m'claude-3-5-sonnet-20241022'\u001b[0m,\n",
       "    \u001b[1;38;2;232;125;62mrole\u001b[0m=\u001b[92m'assistant'\u001b[0m,\n",
       "    \u001b[1;38;2;232;125;62mstop_reason\u001b[0m=\u001b[92m'tool_use'\u001b[0m,\n",
       "    \u001b[1;38;2;232;125;62mstop_sequence\u001b[0m=\u001b[2;37mNone\u001b[0m,\n",
       "    \u001b[1;38;2;232;125;62mtype\u001b[0m=\u001b[92m'message'\u001b[0m,\n",
       "    \u001b[1;38;2;232;125;62musage\u001b[0m=\u001b[93mUsage\u001b[0m\u001b[1m(\u001b[0m\u001b[1;38;2;232;125;62minput_tokens\u001b[0m=\u001b[91m995\u001b[0m, \u001b[1;38;2;232;125;62moutput_tokens\u001b[0m=\u001b[91m272\u001b[0m\u001b[1m)\u001b[0m\n",
       "\u001b[1m)\u001b[0m\n"
      ]
     },
     "metadata": {},
     "output_type": "display_data"
    }
   ],
   "source": [
    "console.print(response)"
   ]
  },
  {
   "cell_type": "markdown",
   "metadata": {},
   "source": [
    "### Second tool_user request from the LLM (SQL Query)\n",
    "\n",
    "The LLM analyzed the schema of our database and generated a SQL to answer the user request based on that schema."
   ]
  },
  {
   "cell_type": "code",
   "execution_count": 75,
   "metadata": {},
   "outputs": [],
   "source": [
    "messages.append({\"role\": \"assistant\", \"content\": response.content})"
   ]
  },
  {
   "cell_type": "code",
   "execution_count": 76,
   "metadata": {},
   "outputs": [
    {
     "name": "stdout",
     "output_type": "stream",
     "text": [
      "\n",
      "Tool Used: execute_sql_query\n",
      "Tool Input:\n",
      "{'sql_query': \"WITH top_100_2010 AS (\\n    SELECT p.*, s.salary\\n    FROM salary s\\n    JOIN player p ON s.player_id = p.player_id\\n    WHERE s.year = 2010\\n    ORDER BY s.salary DESC\\n    LIMIT 100\\n)\\nSELECT birth_state, COUNT(*) as player_count\\nFROM top_100_2010\\nWHERE birth_country = 'USA'\\nGROUP BY birth_state\\nORDER BY player_count DESC\\nLIMIT 1;\"}\n"
     ]
    }
   ],
   "source": [
    "if response.stop_reason == \"tool_use\":\n",
    "    tool_use = next(block for block in response.content if block.type == \"tool_use\")\n",
    "    tool_name = tool_use.name\n",
    "    tool_input = tool_use.input\n",
    "    tool_use_id = tool_use.id\n",
    "\n",
    "    print(f\"\\nTool Used: {tool_name}\")\n",
    "    print(\"Tool Input:\")\n",
    "    print(tool_input)\n",
    "\n",
    "    # code_interpreter_results = process_tool_call(e2b_code_interpreter, tool_name, tool_input)\n"
   ]
  },
  {
   "cell_type": "code",
   "execution_count": 77,
   "metadata": {},
   "outputs": [],
   "source": [
    "def execute_sql_query(sql_query):\n",
    "    import json\n",
    "    import sqlite3\n",
    "    \n",
    "    # Connect to SQLite database\n",
    "    conn = sqlite3.connect('baseball.db')\n",
    "    cursor = conn.cursor()\n",
    "    \n",
    "    # Execute query\n",
    "    cursor.execute(sql_query)\n",
    "    \n",
    "    # Fetch results\n",
    "    results = cursor.fetchall()\n",
    "    \n",
    "    # Get column names\n",
    "    column_names = [description[0] for description in cursor.description]\n",
    "    \n",
    "    # Convert results to list of dicts\n",
    "    results_list = []\n",
    "    for row in results:\n",
    "        row_dict = dict(zip(column_names, row))\n",
    "        results_list.append(row_dict)\n",
    "        \n",
    "    # Close connection\n",
    "    conn.close()\n",
    "    \n",
    "    # Return JSON string\n",
    "    return json.dumps(results_list)\n"
   ]
  },
  {
   "cell_type": "markdown",
   "metadata": {},
   "source": [
    "Let's check the SQL query that was generated by the LLM:"
   ]
  },
  {
   "cell_type": "code",
   "execution_count": 88,
   "metadata": {},
   "outputs": [
    {
     "data": {
      "text/html": [
       "<pre style=\"white-space:pre;overflow-x:auto;line-height:normal;font-family:Menlo,'DejaVu Sans Mono',consolas,'Courier New',monospace\"><span style=\"color: #e3e3dd; text-decoration-color: #e3e3dd; background-color: #272822; font-weight: bold\">  </span><span style=\"color: #656660; text-decoration-color: #656660; background-color: #272822\"> 1 </span><span style=\"color: #66d9ef; text-decoration-color: #66d9ef; background-color: #272822\">WITH</span><span style=\"color: #f8f8f2; text-decoration-color: #f8f8f2; background-color: #272822\"> top_100_2010 </span><span style=\"color: #66d9ef; text-decoration-color: #66d9ef; background-color: #272822\">AS</span><span style=\"color: #f8f8f2; text-decoration-color: #f8f8f2; background-color: #272822\"> (</span><span style=\"background-color: #272822\">                                                                                        </span>\n",
       "<span style=\"color: #e3e3dd; text-decoration-color: #e3e3dd; background-color: #272822; font-weight: bold\">  </span><span style=\"color: #656660; text-decoration-color: #656660; background-color: #272822\"> 2 </span><span style=\"color: #f8f8f2; text-decoration-color: #f8f8f2; background-color: #272822\">    </span><span style=\"color: #66d9ef; text-decoration-color: #66d9ef; background-color: #272822\">SELECT</span><span style=\"color: #f8f8f2; text-decoration-color: #f8f8f2; background-color: #272822\"> p.</span><span style=\"color: #ff4689; text-decoration-color: #ff4689; background-color: #272822\">*</span><span style=\"color: #f8f8f2; text-decoration-color: #f8f8f2; background-color: #272822\">, s.salary</span><span style=\"background-color: #272822\">                                                                                      </span>\n",
       "<span style=\"color: #e3e3dd; text-decoration-color: #e3e3dd; background-color: #272822; font-weight: bold\">  </span><span style=\"color: #656660; text-decoration-color: #656660; background-color: #272822\"> 3 </span><span style=\"color: #f8f8f2; text-decoration-color: #f8f8f2; background-color: #272822\">    </span><span style=\"color: #66d9ef; text-decoration-color: #66d9ef; background-color: #272822\">FROM</span><span style=\"color: #f8f8f2; text-decoration-color: #f8f8f2; background-color: #272822\"> salary s</span><span style=\"background-color: #272822\">                                                                                             </span>\n",
       "<span style=\"color: #e3e3dd; text-decoration-color: #e3e3dd; background-color: #272822; font-weight: bold\">  </span><span style=\"color: #656660; text-decoration-color: #656660; background-color: #272822\"> 4 </span><span style=\"color: #f8f8f2; text-decoration-color: #f8f8f2; background-color: #272822\">    </span><span style=\"color: #66d9ef; text-decoration-color: #66d9ef; background-color: #272822\">JOIN</span><span style=\"color: #f8f8f2; text-decoration-color: #f8f8f2; background-color: #272822\"> player p </span><span style=\"color: #66d9ef; text-decoration-color: #66d9ef; background-color: #272822\">ON</span><span style=\"color: #f8f8f2; text-decoration-color: #f8f8f2; background-color: #272822\"> s.player_id </span><span style=\"color: #ff4689; text-decoration-color: #ff4689; background-color: #272822\">=</span><span style=\"color: #f8f8f2; text-decoration-color: #f8f8f2; background-color: #272822\"> p.player_id</span><span style=\"background-color: #272822\">                                                                </span>\n",
       "<span style=\"color: #e3e3dd; text-decoration-color: #e3e3dd; background-color: #272822; font-weight: bold\">  </span><span style=\"color: #656660; text-decoration-color: #656660; background-color: #272822\"> 5 </span><span style=\"color: #f8f8f2; text-decoration-color: #f8f8f2; background-color: #272822\">    </span><span style=\"color: #66d9ef; text-decoration-color: #66d9ef; background-color: #272822\">WHERE</span><span style=\"color: #f8f8f2; text-decoration-color: #f8f8f2; background-color: #272822\"> s.</span><span style=\"color: #66d9ef; text-decoration-color: #66d9ef; background-color: #272822\">year</span><span style=\"color: #f8f8f2; text-decoration-color: #f8f8f2; background-color: #272822\"> </span><span style=\"color: #ff4689; text-decoration-color: #ff4689; background-color: #272822\">=</span><span style=\"color: #f8f8f2; text-decoration-color: #f8f8f2; background-color: #272822\"> </span><span style=\"color: #ae81ff; text-decoration-color: #ae81ff; background-color: #272822\">2010</span><span style=\"background-color: #272822\">                                                                                       </span>\n",
       "<span style=\"color: #e3e3dd; text-decoration-color: #e3e3dd; background-color: #272822; font-weight: bold\">  </span><span style=\"color: #656660; text-decoration-color: #656660; background-color: #272822\"> 6 </span><span style=\"color: #f8f8f2; text-decoration-color: #f8f8f2; background-color: #272822\">    </span><span style=\"color: #66d9ef; text-decoration-color: #66d9ef; background-color: #272822\">ORDER</span><span style=\"color: #f8f8f2; text-decoration-color: #f8f8f2; background-color: #272822\"> </span><span style=\"color: #66d9ef; text-decoration-color: #66d9ef; background-color: #272822\">BY</span><span style=\"color: #f8f8f2; text-decoration-color: #f8f8f2; background-color: #272822\"> s.salary </span><span style=\"color: #66d9ef; text-decoration-color: #66d9ef; background-color: #272822\">DESC</span><span style=\"background-color: #272822\">                                                                                    </span>\n",
       "<span style=\"color: #e3e3dd; text-decoration-color: #e3e3dd; background-color: #272822; font-weight: bold\">  </span><span style=\"color: #656660; text-decoration-color: #656660; background-color: #272822\"> 7 </span><span style=\"color: #f8f8f2; text-decoration-color: #f8f8f2; background-color: #272822\">    </span><span style=\"color: #66d9ef; text-decoration-color: #66d9ef; background-color: #272822\">LIMIT</span><span style=\"color: #f8f8f2; text-decoration-color: #f8f8f2; background-color: #272822\"> </span><span style=\"color: #ae81ff; text-decoration-color: #ae81ff; background-color: #272822\">100</span><span style=\"background-color: #272822\">                                                                                                 </span>\n",
       "<span style=\"color: #e3e3dd; text-decoration-color: #e3e3dd; background-color: #272822; font-weight: bold\">  </span><span style=\"color: #656660; text-decoration-color: #656660; background-color: #272822\"> 8 </span><span style=\"color: #f8f8f2; text-decoration-color: #f8f8f2; background-color: #272822\">)</span><span style=\"background-color: #272822\">                                                                                                             </span>\n",
       "<span style=\"color: #e3e3dd; text-decoration-color: #e3e3dd; background-color: #272822; font-weight: bold\">  </span><span style=\"color: #656660; text-decoration-color: #656660; background-color: #272822\"> 9 </span><span style=\"color: #66d9ef; text-decoration-color: #66d9ef; background-color: #272822\">SELECT</span><span style=\"color: #f8f8f2; text-decoration-color: #f8f8f2; background-color: #272822\"> birth_state, </span><span style=\"color: #66d9ef; text-decoration-color: #66d9ef; background-color: #272822\">COUNT</span><span style=\"color: #f8f8f2; text-decoration-color: #f8f8f2; background-color: #272822\">(</span><span style=\"color: #ff4689; text-decoration-color: #ff4689; background-color: #272822\">*</span><span style=\"color: #f8f8f2; text-decoration-color: #f8f8f2; background-color: #272822\">) </span><span style=\"color: #66d9ef; text-decoration-color: #66d9ef; background-color: #272822\">as</span><span style=\"color: #f8f8f2; text-decoration-color: #f8f8f2; background-color: #272822\"> player_count</span><span style=\"background-color: #272822\">                                                                  </span>\n",
       "<span style=\"color: #e3e3dd; text-decoration-color: #e3e3dd; background-color: #272822; font-weight: bold\">  </span><span style=\"color: #656660; text-decoration-color: #656660; background-color: #272822\">10 </span><span style=\"color: #66d9ef; text-decoration-color: #66d9ef; background-color: #272822\">FROM</span><span style=\"color: #f8f8f2; text-decoration-color: #f8f8f2; background-color: #272822\"> top_100_2010</span><span style=\"background-color: #272822\">                                                                                             </span>\n",
       "<span style=\"color: #e3e3dd; text-decoration-color: #e3e3dd; background-color: #272822; font-weight: bold\">  </span><span style=\"color: #656660; text-decoration-color: #656660; background-color: #272822\">11 </span><span style=\"color: #66d9ef; text-decoration-color: #66d9ef; background-color: #272822\">WHERE</span><span style=\"color: #f8f8f2; text-decoration-color: #f8f8f2; background-color: #272822\"> birth_country </span><span style=\"color: #ff4689; text-decoration-color: #ff4689; background-color: #272822\">=</span><span style=\"color: #f8f8f2; text-decoration-color: #f8f8f2; background-color: #272822\"> </span><span style=\"color: #e6db74; text-decoration-color: #e6db74; background-color: #272822\">'USA'</span><span style=\"background-color: #272822\">                                                                                   </span>\n",
       "<span style=\"color: #e3e3dd; text-decoration-color: #e3e3dd; background-color: #272822; font-weight: bold\">  </span><span style=\"color: #656660; text-decoration-color: #656660; background-color: #272822\">12 </span><span style=\"color: #66d9ef; text-decoration-color: #66d9ef; background-color: #272822\">GROUP</span><span style=\"color: #f8f8f2; text-decoration-color: #f8f8f2; background-color: #272822\"> </span><span style=\"color: #66d9ef; text-decoration-color: #66d9ef; background-color: #272822\">BY</span><span style=\"color: #f8f8f2; text-decoration-color: #f8f8f2; background-color: #272822\"> birth_state</span><span style=\"background-color: #272822\">                                                                                          </span>\n",
       "<span style=\"color: #e3e3dd; text-decoration-color: #e3e3dd; background-color: #272822; font-weight: bold\">  </span><span style=\"color: #656660; text-decoration-color: #656660; background-color: #272822\">13 </span><span style=\"color: #66d9ef; text-decoration-color: #66d9ef; background-color: #272822\">ORDER</span><span style=\"color: #f8f8f2; text-decoration-color: #f8f8f2; background-color: #272822\"> </span><span style=\"color: #66d9ef; text-decoration-color: #66d9ef; background-color: #272822\">BY</span><span style=\"color: #f8f8f2; text-decoration-color: #f8f8f2; background-color: #272822\"> player_count </span><span style=\"color: #66d9ef; text-decoration-color: #66d9ef; background-color: #272822\">DESC</span><span style=\"background-color: #272822\">                                                                                    </span>\n",
       "<span style=\"color: #e3e3dd; text-decoration-color: #e3e3dd; background-color: #272822; font-weight: bold\">  </span><span style=\"color: #656660; text-decoration-color: #656660; background-color: #272822\">14 </span><span style=\"color: #66d9ef; text-decoration-color: #66d9ef; background-color: #272822\">LIMIT</span><span style=\"color: #f8f8f2; text-decoration-color: #f8f8f2; background-color: #272822\"> </span><span style=\"color: #ae81ff; text-decoration-color: #ae81ff; background-color: #272822\">1</span><span style=\"color: #f8f8f2; text-decoration-color: #f8f8f2; background-color: #272822\">;</span><span style=\"background-color: #272822\">                                                                                                      </span>\n",
       "</pre>\n"
      ],
      "text/plain": [
       "\u001b[1;38;2;227;227;221;48;2;39;40;34m  \u001b[0m\u001b[38;2;101;102;96;48;2;39;40;34m 1 \u001b[0m\u001b[38;2;102;217;239;48;2;39;40;34mWITH\u001b[0m\u001b[38;2;248;248;242;48;2;39;40;34m \u001b[0m\u001b[38;2;248;248;242;48;2;39;40;34mtop_100_2010\u001b[0m\u001b[38;2;248;248;242;48;2;39;40;34m \u001b[0m\u001b[38;2;102;217;239;48;2;39;40;34mAS\u001b[0m\u001b[38;2;248;248;242;48;2;39;40;34m \u001b[0m\u001b[38;2;248;248;242;48;2;39;40;34m(\u001b[0m\u001b[48;2;39;40;34m                                                                                        \u001b[0m\n",
       "\u001b[1;38;2;227;227;221;48;2;39;40;34m  \u001b[0m\u001b[38;2;101;102;96;48;2;39;40;34m 2 \u001b[0m\u001b[38;2;248;248;242;48;2;39;40;34m    \u001b[0m\u001b[38;2;102;217;239;48;2;39;40;34mSELECT\u001b[0m\u001b[38;2;248;248;242;48;2;39;40;34m \u001b[0m\u001b[38;2;248;248;242;48;2;39;40;34mp\u001b[0m\u001b[38;2;248;248;242;48;2;39;40;34m.\u001b[0m\u001b[38;2;255;70;137;48;2;39;40;34m*\u001b[0m\u001b[38;2;248;248;242;48;2;39;40;34m,\u001b[0m\u001b[38;2;248;248;242;48;2;39;40;34m \u001b[0m\u001b[38;2;248;248;242;48;2;39;40;34ms\u001b[0m\u001b[38;2;248;248;242;48;2;39;40;34m.\u001b[0m\u001b[38;2;248;248;242;48;2;39;40;34msalary\u001b[0m\u001b[48;2;39;40;34m                                                                                      \u001b[0m\n",
       "\u001b[1;38;2;227;227;221;48;2;39;40;34m  \u001b[0m\u001b[38;2;101;102;96;48;2;39;40;34m 3 \u001b[0m\u001b[38;2;248;248;242;48;2;39;40;34m    \u001b[0m\u001b[38;2;102;217;239;48;2;39;40;34mFROM\u001b[0m\u001b[38;2;248;248;242;48;2;39;40;34m \u001b[0m\u001b[38;2;248;248;242;48;2;39;40;34msalary\u001b[0m\u001b[38;2;248;248;242;48;2;39;40;34m \u001b[0m\u001b[38;2;248;248;242;48;2;39;40;34ms\u001b[0m\u001b[48;2;39;40;34m                                                                                             \u001b[0m\n",
       "\u001b[1;38;2;227;227;221;48;2;39;40;34m  \u001b[0m\u001b[38;2;101;102;96;48;2;39;40;34m 4 \u001b[0m\u001b[38;2;248;248;242;48;2;39;40;34m    \u001b[0m\u001b[38;2;102;217;239;48;2;39;40;34mJOIN\u001b[0m\u001b[38;2;248;248;242;48;2;39;40;34m \u001b[0m\u001b[38;2;248;248;242;48;2;39;40;34mplayer\u001b[0m\u001b[38;2;248;248;242;48;2;39;40;34m \u001b[0m\u001b[38;2;248;248;242;48;2;39;40;34mp\u001b[0m\u001b[38;2;248;248;242;48;2;39;40;34m \u001b[0m\u001b[38;2;102;217;239;48;2;39;40;34mON\u001b[0m\u001b[38;2;248;248;242;48;2;39;40;34m \u001b[0m\u001b[38;2;248;248;242;48;2;39;40;34ms\u001b[0m\u001b[38;2;248;248;242;48;2;39;40;34m.\u001b[0m\u001b[38;2;248;248;242;48;2;39;40;34mplayer_id\u001b[0m\u001b[38;2;248;248;242;48;2;39;40;34m \u001b[0m\u001b[38;2;255;70;137;48;2;39;40;34m=\u001b[0m\u001b[38;2;248;248;242;48;2;39;40;34m \u001b[0m\u001b[38;2;248;248;242;48;2;39;40;34mp\u001b[0m\u001b[38;2;248;248;242;48;2;39;40;34m.\u001b[0m\u001b[38;2;248;248;242;48;2;39;40;34mplayer_id\u001b[0m\u001b[48;2;39;40;34m                                                                \u001b[0m\n",
       "\u001b[1;38;2;227;227;221;48;2;39;40;34m  \u001b[0m\u001b[38;2;101;102;96;48;2;39;40;34m 5 \u001b[0m\u001b[38;2;248;248;242;48;2;39;40;34m    \u001b[0m\u001b[38;2;102;217;239;48;2;39;40;34mWHERE\u001b[0m\u001b[38;2;248;248;242;48;2;39;40;34m \u001b[0m\u001b[38;2;248;248;242;48;2;39;40;34ms\u001b[0m\u001b[38;2;248;248;242;48;2;39;40;34m.\u001b[0m\u001b[38;2;102;217;239;48;2;39;40;34myear\u001b[0m\u001b[38;2;248;248;242;48;2;39;40;34m \u001b[0m\u001b[38;2;255;70;137;48;2;39;40;34m=\u001b[0m\u001b[38;2;248;248;242;48;2;39;40;34m \u001b[0m\u001b[38;2;174;129;255;48;2;39;40;34m2010\u001b[0m\u001b[48;2;39;40;34m                                                                                       \u001b[0m\n",
       "\u001b[1;38;2;227;227;221;48;2;39;40;34m  \u001b[0m\u001b[38;2;101;102;96;48;2;39;40;34m 6 \u001b[0m\u001b[38;2;248;248;242;48;2;39;40;34m    \u001b[0m\u001b[38;2;102;217;239;48;2;39;40;34mORDER\u001b[0m\u001b[38;2;248;248;242;48;2;39;40;34m \u001b[0m\u001b[38;2;102;217;239;48;2;39;40;34mBY\u001b[0m\u001b[38;2;248;248;242;48;2;39;40;34m \u001b[0m\u001b[38;2;248;248;242;48;2;39;40;34ms\u001b[0m\u001b[38;2;248;248;242;48;2;39;40;34m.\u001b[0m\u001b[38;2;248;248;242;48;2;39;40;34msalary\u001b[0m\u001b[38;2;248;248;242;48;2;39;40;34m \u001b[0m\u001b[38;2;102;217;239;48;2;39;40;34mDESC\u001b[0m\u001b[48;2;39;40;34m                                                                                    \u001b[0m\n",
       "\u001b[1;38;2;227;227;221;48;2;39;40;34m  \u001b[0m\u001b[38;2;101;102;96;48;2;39;40;34m 7 \u001b[0m\u001b[38;2;248;248;242;48;2;39;40;34m    \u001b[0m\u001b[38;2;102;217;239;48;2;39;40;34mLIMIT\u001b[0m\u001b[38;2;248;248;242;48;2;39;40;34m \u001b[0m\u001b[38;2;174;129;255;48;2;39;40;34m100\u001b[0m\u001b[48;2;39;40;34m                                                                                                 \u001b[0m\n",
       "\u001b[1;38;2;227;227;221;48;2;39;40;34m  \u001b[0m\u001b[38;2;101;102;96;48;2;39;40;34m 8 \u001b[0m\u001b[38;2;248;248;242;48;2;39;40;34m)\u001b[0m\u001b[48;2;39;40;34m                                                                                                             \u001b[0m\n",
       "\u001b[1;38;2;227;227;221;48;2;39;40;34m  \u001b[0m\u001b[38;2;101;102;96;48;2;39;40;34m 9 \u001b[0m\u001b[38;2;102;217;239;48;2;39;40;34mSELECT\u001b[0m\u001b[38;2;248;248;242;48;2;39;40;34m \u001b[0m\u001b[38;2;248;248;242;48;2;39;40;34mbirth_state\u001b[0m\u001b[38;2;248;248;242;48;2;39;40;34m,\u001b[0m\u001b[38;2;248;248;242;48;2;39;40;34m \u001b[0m\u001b[38;2;102;217;239;48;2;39;40;34mCOUNT\u001b[0m\u001b[38;2;248;248;242;48;2;39;40;34m(\u001b[0m\u001b[38;2;255;70;137;48;2;39;40;34m*\u001b[0m\u001b[38;2;248;248;242;48;2;39;40;34m)\u001b[0m\u001b[38;2;248;248;242;48;2;39;40;34m \u001b[0m\u001b[38;2;102;217;239;48;2;39;40;34mas\u001b[0m\u001b[38;2;248;248;242;48;2;39;40;34m \u001b[0m\u001b[38;2;248;248;242;48;2;39;40;34mplayer_count\u001b[0m\u001b[48;2;39;40;34m                                                                  \u001b[0m\n",
       "\u001b[1;38;2;227;227;221;48;2;39;40;34m  \u001b[0m\u001b[38;2;101;102;96;48;2;39;40;34m10 \u001b[0m\u001b[38;2;102;217;239;48;2;39;40;34mFROM\u001b[0m\u001b[38;2;248;248;242;48;2;39;40;34m \u001b[0m\u001b[38;2;248;248;242;48;2;39;40;34mtop_100_2010\u001b[0m\u001b[48;2;39;40;34m                                                                                             \u001b[0m\n",
       "\u001b[1;38;2;227;227;221;48;2;39;40;34m  \u001b[0m\u001b[38;2;101;102;96;48;2;39;40;34m11 \u001b[0m\u001b[38;2;102;217;239;48;2;39;40;34mWHERE\u001b[0m\u001b[38;2;248;248;242;48;2;39;40;34m \u001b[0m\u001b[38;2;248;248;242;48;2;39;40;34mbirth_country\u001b[0m\u001b[38;2;248;248;242;48;2;39;40;34m \u001b[0m\u001b[38;2;255;70;137;48;2;39;40;34m=\u001b[0m\u001b[38;2;248;248;242;48;2;39;40;34m \u001b[0m\u001b[38;2;230;219;116;48;2;39;40;34m'USA'\u001b[0m\u001b[48;2;39;40;34m                                                                                   \u001b[0m\n",
       "\u001b[1;38;2;227;227;221;48;2;39;40;34m  \u001b[0m\u001b[38;2;101;102;96;48;2;39;40;34m12 \u001b[0m\u001b[38;2;102;217;239;48;2;39;40;34mGROUP\u001b[0m\u001b[38;2;248;248;242;48;2;39;40;34m \u001b[0m\u001b[38;2;102;217;239;48;2;39;40;34mBY\u001b[0m\u001b[38;2;248;248;242;48;2;39;40;34m \u001b[0m\u001b[38;2;248;248;242;48;2;39;40;34mbirth_state\u001b[0m\u001b[48;2;39;40;34m                                                                                          \u001b[0m\n",
       "\u001b[1;38;2;227;227;221;48;2;39;40;34m  \u001b[0m\u001b[38;2;101;102;96;48;2;39;40;34m13 \u001b[0m\u001b[38;2;102;217;239;48;2;39;40;34mORDER\u001b[0m\u001b[38;2;248;248;242;48;2;39;40;34m \u001b[0m\u001b[38;2;102;217;239;48;2;39;40;34mBY\u001b[0m\u001b[38;2;248;248;242;48;2;39;40;34m \u001b[0m\u001b[38;2;248;248;242;48;2;39;40;34mplayer_count\u001b[0m\u001b[38;2;248;248;242;48;2;39;40;34m \u001b[0m\u001b[38;2;102;217;239;48;2;39;40;34mDESC\u001b[0m\u001b[48;2;39;40;34m                                                                                    \u001b[0m\n",
       "\u001b[1;38;2;227;227;221;48;2;39;40;34m  \u001b[0m\u001b[38;2;101;102;96;48;2;39;40;34m14 \u001b[0m\u001b[38;2;102;217;239;48;2;39;40;34mLIMIT\u001b[0m\u001b[38;2;248;248;242;48;2;39;40;34m \u001b[0m\u001b[38;2;174;129;255;48;2;39;40;34m1\u001b[0m\u001b[38;2;248;248;242;48;2;39;40;34m;\u001b[0m\u001b[48;2;39;40;34m                                                                                                      \u001b[0m\n"
      ]
     },
     "metadata": {},
     "output_type": "display_data"
    }
   ],
   "source": [
    "from rich.syntax import Syntax\n",
    "\n",
    "syntax = Syntax(tool_input['sql_query'], \"sql\", line_numbers=True)\n",
    "console.print(syntax)"
   ]
  },
  {
   "cell_type": "code",
   "execution_count": 79,
   "metadata": {},
   "outputs": [],
   "source": [
    "tool_response = {\n",
    "    \"role\": \"user\",\n",
    "    \"content\": [\n",
    "        {\n",
    "        \"type\": \"tool_result\",\n",
    "        \"tool_use_id\": tool_use.id,\n",
    "        \"content\": execute_sql_query(tool_input['sql_query'])\n",
    "        }\n",
    "    ]\n",
    "}"
   ]
  },
  {
   "cell_type": "markdown",
   "metadata": {},
   "source": [
    "### Final reply from the LLM based on the tools used"
   ]
  },
  {
   "cell_type": "code",
   "execution_count": 80,
   "metadata": {},
   "outputs": [],
   "source": [
    "messages.append(tool_response)"
   ]
  },
  {
   "cell_type": "code",
   "execution_count": 81,
   "metadata": {},
   "outputs": [],
   "source": [
    "response = anthropic_client.messages.create(\n",
    "    model=\"claude-3-5-sonnet-20241022\",\n",
    "    system=system_prompt,\n",
    "    max_tokens=8192,\n",
    "    messages=messages,\n",
    "    tools=tools\n",
    ")"
   ]
  },
  {
   "cell_type": "code",
   "execution_count": 82,
   "metadata": {},
   "outputs": [
    {
     "data": {
      "text/html": [
       "<pre style=\"white-space:pre;overflow-x:auto;line-height:normal;font-family:Menlo,'DejaVu Sans Mono',consolas,'Courier New',monospace\"><span style=\"color: #ffff00; text-decoration-color: #ffff00\">Message</span><span style=\"font-weight: bold\">(</span>\n",
       "    <span style=\"color: #e87d3e; text-decoration-color: #e87d3e; font-weight: bold\">id</span>=<span style=\"color: #00ff00; text-decoration-color: #00ff00\">'msg_01MpFVCeNhBUw94P8rvaM4fd'</span>,\n",
       "    <span style=\"color: #e87d3e; text-decoration-color: #e87d3e; font-weight: bold\">content</span>=<span style=\"font-weight: bold\">[</span>\n",
       "        <span style=\"color: #ffff00; text-decoration-color: #ffff00\">TextBlock</span><span style=\"font-weight: bold\">(</span>\n",
       "            <span style=\"color: #e87d3e; text-decoration-color: #e87d3e; font-weight: bold\">text</span>=<span style=\"color: #00ff00; text-decoration-color: #00ff00\">'Based on the query results, California </span><span style=\"color: #00ff00; text-decoration-color: #00ff00; font-weight: bold\">(</span><span style=\"color: #00ff00; text-decoration-color: #00ff00\">CA</span><span style=\"color: #00ff00; text-decoration-color: #00ff00; font-weight: bold\">)</span><span style=\"color: #00ff00; text-decoration-color: #00ff00\"> was the birth state of most baseball players who were</span>\n",
       "<span style=\"color: #00ff00; text-decoration-color: #00ff00\">among the top 100 highest-paid players in 2010. Specifically, 15 players from the top 100 highest-paid players in </span>\n",
       "<span style=\"color: #00ff00; text-decoration-color: #00ff00\">2010 were born in California.'</span>,\n",
       "            <span style=\"color: #e87d3e; text-decoration-color: #e87d3e; font-weight: bold\">type</span>=<span style=\"color: #00ff00; text-decoration-color: #00ff00\">'text'</span>\n",
       "        <span style=\"font-weight: bold\">)</span>\n",
       "    <span style=\"font-weight: bold\">]</span>,\n",
       "    <span style=\"color: #e87d3e; text-decoration-color: #e87d3e; font-weight: bold\">model</span>=<span style=\"color: #00ff00; text-decoration-color: #00ff00\">'claude-3-5-sonnet-20241022'</span>,\n",
       "    <span style=\"color: #e87d3e; text-decoration-color: #e87d3e; font-weight: bold\">role</span>=<span style=\"color: #00ff00; text-decoration-color: #00ff00\">'assistant'</span>,\n",
       "    <span style=\"color: #e87d3e; text-decoration-color: #e87d3e; font-weight: bold\">stop_reason</span>=<span style=\"color: #00ff00; text-decoration-color: #00ff00\">'end_turn'</span>,\n",
       "    <span style=\"color: #e87d3e; text-decoration-color: #e87d3e; font-weight: bold\">stop_sequence</span>=<span style=\"color: #dfdfdf; text-decoration-color: #dfdfdf\">None</span>,\n",
       "    <span style=\"color: #e87d3e; text-decoration-color: #e87d3e; font-weight: bold\">type</span>=<span style=\"color: #00ff00; text-decoration-color: #00ff00\">'message'</span>,\n",
       "    <span style=\"color: #e87d3e; text-decoration-color: #e87d3e; font-weight: bold\">usage</span>=<span style=\"color: #ffff00; text-decoration-color: #ffff00\">Usage</span><span style=\"font-weight: bold\">(</span><span style=\"color: #e87d3e; text-decoration-color: #e87d3e; font-weight: bold\">input_tokens</span>=<span style=\"color: #ff0000; text-decoration-color: #ff0000\">1292</span>, <span style=\"color: #e87d3e; text-decoration-color: #e87d3e; font-weight: bold\">output_tokens</span>=<span style=\"color: #ff0000; text-decoration-color: #ff0000\">66</span><span style=\"font-weight: bold\">)</span>\n",
       "<span style=\"font-weight: bold\">)</span>\n",
       "</pre>\n"
      ],
      "text/plain": [
       "\u001b[93mMessage\u001b[0m\u001b[1m(\u001b[0m\n",
       "    \u001b[1;38;2;232;125;62mid\u001b[0m=\u001b[92m'msg_01MpFVCeNhBUw94P8rvaM4fd'\u001b[0m,\n",
       "    \u001b[1;38;2;232;125;62mcontent\u001b[0m=\u001b[1m[\u001b[0m\n",
       "        \u001b[93mTextBlock\u001b[0m\u001b[1m(\u001b[0m\n",
       "            \u001b[1;38;2;232;125;62mtext\u001b[0m=\u001b[92m'Based on the query results, California \u001b[0m\u001b[1;92m(\u001b[0m\u001b[92mCA\u001b[0m\u001b[1;92m)\u001b[0m\u001b[92m was the birth state of most baseball players who were\u001b[0m\n",
       "\u001b[92mamong the top 100 highest-paid players in 2010. Specifically, 15 players from the top 100 highest-paid players in \u001b[0m\n",
       "\u001b[92m2010 were born in California.'\u001b[0m,\n",
       "            \u001b[1;38;2;232;125;62mtype\u001b[0m=\u001b[92m'text'\u001b[0m\n",
       "        \u001b[1m)\u001b[0m\n",
       "    \u001b[1m]\u001b[0m,\n",
       "    \u001b[1;38;2;232;125;62mmodel\u001b[0m=\u001b[92m'claude-3-5-sonnet-20241022'\u001b[0m,\n",
       "    \u001b[1;38;2;232;125;62mrole\u001b[0m=\u001b[92m'assistant'\u001b[0m,\n",
       "    \u001b[1;38;2;232;125;62mstop_reason\u001b[0m=\u001b[92m'end_turn'\u001b[0m,\n",
       "    \u001b[1;38;2;232;125;62mstop_sequence\u001b[0m=\u001b[2;37mNone\u001b[0m,\n",
       "    \u001b[1;38;2;232;125;62mtype\u001b[0m=\u001b[92m'message'\u001b[0m,\n",
       "    \u001b[1;38;2;232;125;62musage\u001b[0m=\u001b[93mUsage\u001b[0m\u001b[1m(\u001b[0m\u001b[1;38;2;232;125;62minput_tokens\u001b[0m=\u001b[91m1292\u001b[0m, \u001b[1;38;2;232;125;62moutput_tokens\u001b[0m=\u001b[91m66\u001b[0m\u001b[1m)\u001b[0m\n",
       "\u001b[1m)\u001b[0m\n"
      ]
     },
     "metadata": {},
     "output_type": "display_data"
    }
   ],
   "source": [
    "console.print(response)"
   ]
  },
  {
   "cell_type": "markdown",
   "metadata": {},
   "source": [
    "And we got the response to our question from the LLM based on query to an internal database, without the need to know any SQL."
   ]
  },
  {
   "cell_type": "code",
   "execution_count": 89,
   "metadata": {},
   "outputs": [
    {
     "data": {
      "text/html": [
       "<pre style=\"white-space:pre;overflow-x:auto;line-height:normal;font-family:Menlo,'DejaVu Sans Mono',consolas,'Courier New',monospace\"><span style=\"color: #008000; text-decoration-color: #008000; font-weight: bold\">╭─────── In which US state most baseball players who were in the top 100 richest player in 2010 were born? ───────╮</span>\n",
       "<span style=\"color: #008000; text-decoration-color: #008000; font-weight: bold\">│</span>                                                                                                                 <span style=\"color: #008000; text-decoration-color: #008000; font-weight: bold\">│</span>\n",
       "<span style=\"color: #008000; text-decoration-color: #008000; font-weight: bold\">│</span> Based on the query results, California (CA) was the birth state of most baseball players who were among the top <span style=\"color: #008000; text-decoration-color: #008000; font-weight: bold\">│</span>\n",
       "<span style=\"color: #008000; text-decoration-color: #008000; font-weight: bold\">│</span> 100 highest-paid players in 2010. Specifically, 15 players from the top 100 highest-paid players in 2010 were   <span style=\"color: #008000; text-decoration-color: #008000; font-weight: bold\">│</span>\n",
       "<span style=\"color: #008000; text-decoration-color: #008000; font-weight: bold\">│</span> born in California.                                                                                             <span style=\"color: #008000; text-decoration-color: #008000; font-weight: bold\">│</span>\n",
       "<span style=\"color: #008000; text-decoration-color: #008000; font-weight: bold\">│</span>                                                                                                                 <span style=\"color: #008000; text-decoration-color: #008000; font-weight: bold\">│</span>\n",
       "<span style=\"color: #008000; text-decoration-color: #008000; font-weight: bold\">╰─────────────────────────────────────────────────────────────────────────────────────────────────────────────────╯</span>\n",
       "</pre>\n"
      ],
      "text/plain": [
       "\u001b[1;32m╭─\u001b[0m\u001b[1;32m──────\u001b[0m\u001b[1;32m In which US state most baseball players who were in the top 100 richest player in 2010 were born? \u001b[0m\u001b[1;32m──────\u001b[0m\u001b[1;32m─╮\u001b[0m\n",
       "\u001b[1;32m│\u001b[0m                                                                                                                 \u001b[1;32m│\u001b[0m\n",
       "\u001b[1;32m│\u001b[0m Based on the query results, California (CA) was the birth state of most baseball players who were among the top \u001b[1;32m│\u001b[0m\n",
       "\u001b[1;32m│\u001b[0m 100 highest-paid players in 2010. Specifically, 15 players from the top 100 highest-paid players in 2010 were   \u001b[1;32m│\u001b[0m\n",
       "\u001b[1;32m│\u001b[0m born in California.                                                                                             \u001b[1;32m│\u001b[0m\n",
       "\u001b[1;32m│\u001b[0m                                                                                                                 \u001b[1;32m│\u001b[0m\n",
       "\u001b[1;32m╰─────────────────────────────────────────────────────────────────────────────────────────────────────────────────╯\u001b[0m\n"
      ]
     },
     "metadata": {},
     "output_type": "display_data"
    }
   ],
   "source": [
    "response_text = Text(response.content[0].text)\n",
    "styled_panel = Panel(\n",
    "    response_text,\n",
    "    title=f\"{user_prompt}\",\n",
    "    expand=False,\n",
    "    border_style=\"bold green\",\n",
    "    padding=(1, 1)\n",
    ")\n",
    "\n",
    "console.print(styled_panel)"
   ]
  },
  {
   "cell_type": "code",
   "execution_count": null,
   "metadata": {},
   "outputs": [],
   "source": []
  }
 ],
 "metadata": {
  "kernelspec": {
   "display_name": ".venv",
   "language": "python",
   "name": "python3"
  },
  "language_info": {
   "codemirror_mode": {
    "name": "ipython",
    "version": 3
   },
   "file_extension": ".py",
   "mimetype": "text/x-python",
   "name": "python",
   "nbconvert_exporter": "python",
   "pygments_lexer": "ipython3",
   "version": "3.12.3"
  }
 },
 "nbformat": 4,
 "nbformat_minor": 2
}
