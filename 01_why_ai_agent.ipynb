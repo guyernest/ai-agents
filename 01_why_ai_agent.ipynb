{
 "cells": [
  {
   "cell_type": "markdown",
   "metadata": {},
   "source": [
    "# Why AI Agent \n",
    "\n",
    "In this notebook we will build a simple AI Agent to answer the question `What day is today?`. We will:\n",
    "\n",
    "* [Try to understand why LLM Hallucinate](#why-llm-hallucinate)\n",
    "* [Create a simple tool in Python to help the LLM not to hallucinate](#create-a-simple-tool-in-python)\n",
    "* [Define the tool for the LLM](#tool-definition-for-the-llm)\n",
    "* [Simple AI Agent Flow](#llm-flow-with-tools-ai-agent)\n",
    "* [Apply Tool Use Request from LLM](#apply-tool-use-request-from-the-llm)\n",
    "* [Send Tool Response to the LLM](#tool-response)"
   ]
  },
  {
   "cell_type": "markdown",
   "metadata": {},
   "source": [
    "### Visual improvements\n",
    "\n",
    "We will use [rich library](https://github.com/Textualize/rich), and `rich-theme-manager` to make the output more readable, and supress warning messages."
   ]
  },
  {
   "cell_type": "code",
   "execution_count": 1,
   "metadata": {},
   "outputs": [
    {
     "data": {
      "text/html": [
       "<pre style=\"white-space:pre;overflow-x:auto;line-height:normal;font-family:Menlo,'DejaVu Sans Mono',consolas,'Courier New',monospace\"><span style=\"font-weight: bold\"> Theme  Description       Tags  Path               </span>\n",
       " dark   Dark mode theme   dark  themes/dark.theme  \n",
       " light  Light mode theme        themes/light.theme \n",
       "</pre>\n"
      ],
      "text/plain": [
       "\u001b[1m \u001b[0m\u001b[1mTheme\u001b[0m\u001b[1m \u001b[0m\u001b[1m \u001b[0m\u001b[1mDescription     \u001b[0m\u001b[1m \u001b[0m\u001b[1m \u001b[0m\u001b[1mTags\u001b[0m\u001b[1m \u001b[0m\u001b[1m \u001b[0m\u001b[1mPath              \u001b[0m\u001b[1m \u001b[0m\n",
       " dark   Dark mode theme   dark  themes/dark.theme  \n",
       " light  Light mode theme        themes/light.theme \n"
      ]
     },
     "metadata": {},
     "output_type": "display_data"
    },
    {
     "data": {
      "text/html": [
       "<pre style=\"white-space:pre;overflow-x:auto;line-height:normal;font-family:Menlo,'DejaVu Sans Mono',consolas,'Courier New',monospace\"><span style=\"font-style: italic\">                                      Theme: dark - themes/dark.theme                                      </span>\n",
       "┌───────────────────┬───────────────┬───────┬─────────┬─────────┬────────────────┬────────────────────────┐\n",
       "│<span style=\"font-weight: bold\"> style             </span>│<span style=\"font-weight: bold\"> color         </span>│<span style=\"font-weight: bold\"> color </span>│<span style=\"font-weight: bold\"> bgcolor </span>│<span style=\"font-weight: bold\"> bgcolor </span>│<span style=\"font-weight: bold\"> attributes     </span>│<span style=\"font-weight: bold\"> example                </span>│\n",
       "├───────────────────┼───────────────┼───────┼─────────┼─────────┼────────────────┼────────────────────────┤\n",
       "│ default           │ bright_white  │ <span style=\"color: #ffffff; text-decoration-color: #ffffff\">█████</span> │ black   │ <span style=\"color: #000000; text-decoration-color: #000000\">█████  </span> │ -------------- │ <span style=\"color: #ffffff; text-decoration-color: #ffffff; background-color: #000000\">The quick brown fox...</span> │\n",
       "├───────────────────┼───────────────┼───────┼─────────┼─────────┼────────────────┼────────────────────────┤\n",
       "│ repr.attrib_name  │ #e87d3e       │ <span style=\"color: #e87d3e; text-decoration-color: #e87d3e\">█████</span> │ None    │         │ <span style=\"font-weight: bold\">b</span>------------- │ <span style=\"color: #e87d3e; text-decoration-color: #e87d3e; font-weight: bold\">The quick brown fox...</span> │\n",
       "├───────────────────┼───────────────┼───────┼─────────┼─────────┼────────────────┼────────────────────────┤\n",
       "│ repr.attrib_value │ bright_blue   │ <span style=\"color: #0000ff; text-decoration-color: #0000ff\">█████</span> │ None    │         │ -------------- │ <span style=\"color: #0000ff; text-decoration-color: #0000ff\">The quick brown fox...</span> │\n",
       "├───────────────────┼───────────────┼───────┼─────────┼─────────┼────────────────┼────────────────────────┤\n",
       "│ repr.call         │ bright_yellow │ <span style=\"color: #ffff00; text-decoration-color: #ffff00\">█████</span> │ None    │         │ -------------- │ <span style=\"color: #ffff00; text-decoration-color: #ffff00\">The quick brown fox...</span> │\n",
       "├───────────────────┼───────────────┼───────┼─────────┼─────────┼────────────────┼────────────────────────┤\n",
       "│ repr.none         │ white         │ <span style=\"color: #c0c0c0; text-decoration-color: #c0c0c0\">█████</span> │ None    │         │ -<span style=\"font-weight: bold\">d</span>------------ │ <span style=\"color: #dfdfdf; text-decoration-color: #dfdfdf\">The quick brown fox...</span> │\n",
       "├───────────────────┼───────────────┼───────┼─────────┼─────────┼────────────────┼────────────────────────┤\n",
       "│ repr.number       │ bright_red    │ <span style=\"color: #ff0000; text-decoration-color: #ff0000\">█████</span> │ None    │         │ -------------- │ <span style=\"color: #ff0000; text-decoration-color: #ff0000\">The quick brown fox...</span> │\n",
       "├───────────────────┼───────────────┼───────┼─────────┼─────────┼────────────────┼────────────────────────┤\n",
       "│ repr.own          │ #e87d3e       │ <span style=\"color: #e87d3e; text-decoration-color: #e87d3e\">█████</span> │ None    │         │ <span style=\"font-weight: bold\">b</span>------------- │ <span style=\"color: #e87d3e; text-decoration-color: #e87d3e; font-weight: bold\">The quick brown fox...</span> │\n",
       "├───────────────────┼───────────────┼───────┼─────────┼─────────┼────────────────┼────────────────────────┤\n",
       "│ repr.str          │ bright_green  │ <span style=\"color: #00ff00; text-decoration-color: #00ff00\">█████</span> │ None    │         │ -------------- │ <span style=\"color: #00ff00; text-decoration-color: #00ff00\">The quick brown fox...</span> │\n",
       "├───────────────────┼───────────────┼───────┼─────────┼─────────┼────────────────┼────────────────────────┤\n",
       "│ repr.tag_name     │ cyan          │ <span style=\"color: #008080; text-decoration-color: #008080\">█████</span> │ None    │         │ -<span style=\"font-weight: bold\">d</span>------------ │ <span style=\"color: #7fbfbf; text-decoration-color: #7fbfbf\">The quick brown fox...</span> │\n",
       "└───────────────────┴───────────────┴───────┴─────────┴─────────┴────────────────┴────────────────────────┘\n",
       "┌─ attributes legend ──────────────────────────────────────────────────────────────────┐\n",
       "│  <span style=\"font-weight: bold\">b</span>: bold, <span style=\"font-weight: bold\">d</span>: dim, <span style=\"font-weight: bold\">i</span>: italic, <span style=\"font-weight: bold\">u</span>: underline, <span style=\"font-weight: bold\">U</span>: double underline, <span style=\"font-weight: bold\">B</span>: blink, <span style=\"font-weight: bold\">2</span>: blink2  │\n",
       "│  <span style=\"font-weight: bold\">r</span>: reverse, <span style=\"font-weight: bold\">c</span>: conceal, <span style=\"font-weight: bold\">s</span>: strike, <span style=\"font-weight: bold\">f</span>: frame, <span style=\"font-weight: bold\">e</span>: encircle, <span style=\"font-weight: bold\">o</span>: overline, <span style=\"font-weight: bold\">L</span>: Link      │\n",
       "└──────────────────────────────────────────────────────────────────────────────────────┘\n",
       "</pre>\n"
      ],
      "text/plain": [
       "\u001b[3m                                      Theme: dark - themes/dark.theme                                      \u001b[0m\n",
       "┌───────────────────┬───────────────┬───────┬─────────┬─────────┬────────────────┬────────────────────────┐\n",
       "│\u001b[1m \u001b[0m\u001b[1mstyle            \u001b[0m\u001b[1m \u001b[0m│\u001b[1m \u001b[0m\u001b[1mcolor        \u001b[0m\u001b[1m \u001b[0m│\u001b[1m \u001b[0m\u001b[1mcolor\u001b[0m\u001b[1m \u001b[0m│\u001b[1m \u001b[0m\u001b[1mbgcolor\u001b[0m\u001b[1m \u001b[0m│\u001b[1m \u001b[0m\u001b[1mbgcolor\u001b[0m\u001b[1m \u001b[0m│\u001b[1m \u001b[0m\u001b[1mattributes    \u001b[0m\u001b[1m \u001b[0m│\u001b[1m \u001b[0m\u001b[1mexample               \u001b[0m\u001b[1m \u001b[0m│\n",
       "├───────────────────┼───────────────┼───────┼─────────┼─────────┼────────────────┼────────────────────────┤\n",
       "│ default           │ bright_white  │ \u001b[97m█████\u001b[0m │ black   │ \u001b[30m█████  \u001b[0m │ -------------- │ \u001b[97;40mThe quick brown fox...\u001b[0m │\n",
       "├───────────────────┼───────────────┼───────┼─────────┼─────────┼────────────────┼────────────────────────┤\n",
       "│ repr.attrib_name  │ #e87d3e       │ \u001b[38;2;232;125;62m█████\u001b[0m │ None    │         │ \u001b[1mb\u001b[0m------------- │ \u001b[1;38;2;232;125;62mThe quick brown fox...\u001b[0m │\n",
       "├───────────────────┼───────────────┼───────┼─────────┼─────────┼────────────────┼────────────────────────┤\n",
       "│ repr.attrib_value │ bright_blue   │ \u001b[94m█████\u001b[0m │ None    │         │ -------------- │ \u001b[94mThe quick brown fox...\u001b[0m │\n",
       "├───────────────────┼───────────────┼───────┼─────────┼─────────┼────────────────┼────────────────────────┤\n",
       "│ repr.call         │ bright_yellow │ \u001b[93m█████\u001b[0m │ None    │         │ -------------- │ \u001b[93mThe quick brown fox...\u001b[0m │\n",
       "├───────────────────┼───────────────┼───────┼─────────┼─────────┼────────────────┼────────────────────────┤\n",
       "│ repr.none         │ white         │ \u001b[37m█████\u001b[0m │ None    │         │ -\u001b[1md\u001b[0m------------ │ \u001b[2;37mThe quick brown fox...\u001b[0m │\n",
       "├───────────────────┼───────────────┼───────┼─────────┼─────────┼────────────────┼────────────────────────┤\n",
       "│ repr.number       │ bright_red    │ \u001b[91m█████\u001b[0m │ None    │         │ -------------- │ \u001b[91mThe quick brown fox...\u001b[0m │\n",
       "├───────────────────┼───────────────┼───────┼─────────┼─────────┼────────────────┼────────────────────────┤\n",
       "│ repr.own          │ #e87d3e       │ \u001b[38;2;232;125;62m█████\u001b[0m │ None    │         │ \u001b[1mb\u001b[0m------------- │ \u001b[1;38;2;232;125;62mThe quick brown fox...\u001b[0m │\n",
       "├───────────────────┼───────────────┼───────┼─────────┼─────────┼────────────────┼────────────────────────┤\n",
       "│ repr.str          │ bright_green  │ \u001b[92m█████\u001b[0m │ None    │         │ -------------- │ \u001b[92mThe quick brown fox...\u001b[0m │\n",
       "├───────────────────┼───────────────┼───────┼─────────┼─────────┼────────────────┼────────────────────────┤\n",
       "│ repr.tag_name     │ cyan          │ \u001b[36m█████\u001b[0m │ None    │         │ -\u001b[1md\u001b[0m------------ │ \u001b[2;36mThe quick brown fox...\u001b[0m │\n",
       "└───────────────────┴───────────────┴───────┴─────────┴─────────┴────────────────┴────────────────────────┘\n",
       "┌─ attributes legend ──────────────────────────────────────────────────────────────────┐\n",
       "│  \u001b[1mb\u001b[0m: bold, \u001b[1md\u001b[0m: dim, \u001b[1mi\u001b[0m: italic, \u001b[1mu\u001b[0m: underline, \u001b[1mU\u001b[0m: double underline, \u001b[1mB\u001b[0m: blink, \u001b[1m2\u001b[0m: blink2  │\n",
       "│  \u001b[1mr\u001b[0m: reverse, \u001b[1mc\u001b[0m: conceal, \u001b[1ms\u001b[0m: strike, \u001b[1mf\u001b[0m: frame, \u001b[1me\u001b[0m: encircle, \u001b[1mo\u001b[0m: overline, \u001b[1mL\u001b[0m: Link      │\n",
       "└──────────────────────────────────────────────────────────────────────────────────────┘\n"
      ]
     },
     "metadata": {},
     "output_type": "display_data"
    }
   ],
   "source": [
    "from rich.console import Console\n",
    "from rich.style import Style\n",
    "import pathlib\n",
    "from rich_theme_manager import Theme, ThemeManager\n",
    "\n",
    "THEMES = [\n",
    "    Theme(\n",
    "        name=\"dark\",\n",
    "        description=\"Dark mode theme\",\n",
    "        tags=[\"dark\"],\n",
    "        styles={\n",
    "            \"repr.own\": Style(color=\"#e87d3e\", bold=True),      # Class names\n",
    "            \"repr.tag_name\": \"dim cyan\",                        # Adjust tag names \n",
    "            \"repr.call\": \"bright_yellow\",                       # Function calls and other symbols\n",
    "            \"repr.str\": \"bright_green\",                         # String representation\n",
    "            \"repr.number\": \"bright_red\",                        # Numbers\n",
    "            \"repr.none\": \"dim white\",                           # None\n",
    "            \"repr.attrib_name\": Style(color=\"#e87d3e\", bold=True),    # Attribute names\n",
    "            \"repr.attrib_value\": \"bright_blue\",                 # Attribute values\n",
    "            \"default\": \"bright_white on black\"                  # Default text and background\n",
    "        },\n",
    "    ),\n",
    "    Theme(\n",
    "        name=\"light\",\n",
    "        description=\"Light mode theme\",\n",
    "        styles={\n",
    "            \"repr.own\": Style(color=\"#22863a\", bold=True),          # Class names\n",
    "            \"repr.tag_name\": Style(color=\"#00bfff\", bold=True),     # Adjust tag names \n",
    "            \"repr.call\": Style(color=\"#ffff00\", bold=True),         # Function calls and other symbols\n",
    "            \"repr.str\": Style(color=\"#008080\", bold=True),          # String representation\n",
    "            \"repr.number\": Style(color=\"#ff6347\", bold=True),       # Numbers\n",
    "            \"repr.none\": Style(color=\"#808080\", bold=True),         # None\n",
    "            \"repr.attrib_name\": Style(color=\"#ffff00\", bold=True),  # Attribute names\n",
    "            \"repr.attrib_value\": Style(color=\"#008080\", bold=True), # Attribute values\n",
    "            \"default\": Style(color=\"#000000\", bgcolor=\"#ffffff\"),   # Default text and background\n",
    "        },\n",
    "    ),\n",
    "]\n",
    "\n",
    "theme_dir = pathlib.Path(\"themes\").expanduser()\n",
    "theme_dir.expanduser().mkdir(parents=True, exist_ok=True)\n",
    "\n",
    "theme_manager = ThemeManager(theme_dir=theme_dir, themes=THEMES)\n",
    "theme_manager.list_themes()\n",
    "\n",
    "dark = theme_manager.get(\"dark\")\n",
    "theme_manager.preview_theme(dark)"
   ]
  },
  {
   "cell_type": "code",
   "execution_count": 2,
   "metadata": {},
   "outputs": [],
   "source": [
    "from rich.console import Console\n",
    "\n",
    "dark = theme_manager.get(\"dark\")\n",
    "# Create a console with the dark theme\n",
    "console = Console(theme=dark)\n"
   ]
  },
  {
   "cell_type": "code",
   "execution_count": 3,
   "metadata": {},
   "outputs": [],
   "source": [
    "import warnings\n",
    "\n",
    "# Suppress warnings\n",
    "warnings.filterwarnings('ignore')"
   ]
  },
  {
   "cell_type": "markdown",
   "metadata": {},
   "source": [
    "## Why LLM Hallucinate\n",
    "\n",
    "We can ask a simple question our favorite LLM:"
   ]
  },
  {
   "cell_type": "code",
   "execution_count": 4,
   "metadata": {},
   "outputs": [
    {
     "data": {
      "text/plain": [
       "True"
      ]
     },
     "execution_count": 4,
     "metadata": {},
     "output_type": "execute_result"
    }
   ],
   "source": [
    "from dotenv import load_dotenv\n",
    "\n",
    "load_dotenv()"
   ]
  },
  {
   "cell_type": "code",
   "execution_count": 5,
   "metadata": {},
   "outputs": [],
   "source": [
    "user_prompt = \"What day is today?\""
   ]
  },
  {
   "cell_type": "code",
   "execution_count": 6,
   "metadata": {},
   "outputs": [],
   "source": [
    "# Now time to connect to the large language model\n",
    "from openai import OpenAI\n",
    "\n",
    "openai_client = OpenAI()\n",
    "completion = openai_client.chat.completions.create(\n",
    "    model=\"gpt-4\",\n",
    "    messages=[\n",
    "        {\n",
    "            \"role\": \"system\", \n",
    "            \"content\": \"You are chatbot, who is helping people with answers to their questions.\"\n",
    "        },\n",
    "        {\n",
    "            \"role\": \"user\", \n",
    "            \"content\": \n",
    "                [\n",
    "                    {\"type\": \"text\", \"text\": user_prompt},\n",
    "                ],\n",
    "        },\n",
    "    ]\n",
    ")"
   ]
  },
  {
   "cell_type": "code",
   "execution_count": 7,
   "metadata": {},
   "outputs": [
    {
     "data": {
      "text/html": [
       "<pre style=\"white-space:pre;overflow-x:auto;line-height:normal;font-family:Menlo,'DejaVu Sans Mono',consolas,'Courier New',monospace\"><span style=\"color: #008000; text-decoration-color: #008000; font-weight: bold\">╭────────────────────────────────────────────── What day is today? ───────────────────────────────────────────────╮</span>\n",
       "<span style=\"color: #008000; text-decoration-color: #008000; font-weight: bold\">│</span>                                                                                                                 <span style=\"color: #008000; text-decoration-color: #008000; font-weight: bold\">│</span>\n",
       "<span style=\"color: #008000; text-decoration-color: #008000; font-weight: bold\">│</span> As an AI, I don't have real-time capabilities and cannot provide the current date. Please check the date on     <span style=\"color: #008000; text-decoration-color: #008000; font-weight: bold\">│</span>\n",
       "<span style=\"color: #008000; text-decoration-color: #008000; font-weight: bold\">│</span> your device.                                                                                                    <span style=\"color: #008000; text-decoration-color: #008000; font-weight: bold\">│</span>\n",
       "<span style=\"color: #008000; text-decoration-color: #008000; font-weight: bold\">│</span>                                                                                                                 <span style=\"color: #008000; text-decoration-color: #008000; font-weight: bold\">│</span>\n",
       "<span style=\"color: #008000; text-decoration-color: #008000; font-weight: bold\">╰─────────────────────────────────────────────────────────────────────────────────────────────────────────────────╯</span>\n",
       "</pre>\n"
      ],
      "text/plain": [
       "\u001b[1;32m╭─\u001b[0m\u001b[1;32m─────────────────────────────────────────────\u001b[0m\u001b[1;32m What day is today? \u001b[0m\u001b[1;32m──────────────────────────────────────────────\u001b[0m\u001b[1;32m─╮\u001b[0m\n",
       "\u001b[1;32m│\u001b[0m                                                                                                                 \u001b[1;32m│\u001b[0m\n",
       "\u001b[1;32m│\u001b[0m As an AI, I don't have real-time capabilities and cannot provide the current date. Please check the date on     \u001b[1;32m│\u001b[0m\n",
       "\u001b[1;32m│\u001b[0m your device.                                                                                                    \u001b[1;32m│\u001b[0m\n",
       "\u001b[1;32m│\u001b[0m                                                                                                                 \u001b[1;32m│\u001b[0m\n",
       "\u001b[1;32m╰─────────────────────────────────────────────────────────────────────────────────────────────────────────────────╯\u001b[0m\n"
      ]
     },
     "metadata": {},
     "output_type": "display_data"
    }
   ],
   "source": [
    "from rich.panel import Panel\n",
    "from rich.text import Text\n",
    "\n",
    "response_text = Text(completion.choices[0].message.content)\n",
    "styled_panel = Panel(\n",
    "    response_text,\n",
    "    title=f\"{user_prompt}\",\n",
    "    expand=False,\n",
    "    border_style=\"bold green\",\n",
    "    padding=(1, 1)\n",
    ")\n",
    "\n",
    "console.print(styled_panel)"
   ]
  },
  {
   "cell_type": "markdown",
   "metadata": {},
   "source": [
    "The LLM can't really help us."
   ]
  },
  {
   "cell_type": "markdown",
   "metadata": {},
   "source": [
    "## Create a simple tool in Python\n",
    "\n",
    "If the naiive approach doesn't work, let's build an AI agent that will help us solve such tasks. First we need a `Tool` that can solve Sudoku puzzles. We can write it ourselves or use LLM for it."
   ]
  },
  {
   "cell_type": "code",
   "execution_count": 8,
   "metadata": {},
   "outputs": [],
   "source": [
    "code_request_prompt = \"Write a Python function that returns today’s day of the week, such as ‘Sunday’ and ‘Monday’\""
   ]
  },
  {
   "cell_type": "code",
   "execution_count": 9,
   "metadata": {},
   "outputs": [],
   "source": [
    "import anthropic\n",
    "\n",
    "anthropic_client = anthropic.Anthropic()\n"
   ]
  },
  {
   "cell_type": "code",
   "execution_count": 10,
   "metadata": {},
   "outputs": [],
   "source": [
    "response = anthropic_client.messages.create(\n",
    "        model=\"claude-3-5-sonnet-20241022\",\n",
    "        max_tokens=8192,\n",
    "        messages=[\n",
    "            {\n",
    "                \"role\": \"user\", \n",
    "                \"content\": [\n",
    "                    {\n",
    "                        \"type\": \"text\",\n",
    "                        \"text\": code_request_prompt,\n",
    "                    }\n",
    "                ]\n",
    "            }\n",
    "        ],\n",
    "    )"
   ]
  },
  {
   "cell_type": "code",
   "execution_count": 11,
   "metadata": {},
   "outputs": [
    {
     "data": {
      "text/html": [
       "<pre style=\"white-space:pre;overflow-x:auto;line-height:normal;font-family:Menlo,'DejaVu Sans Mono',consolas,'Courier New',monospace\"><span style=\"color: #ffff00; text-decoration-color: #ffff00\">Message</span><span style=\"font-weight: bold\">(</span>\n",
       "    <span style=\"color: #e87d3e; text-decoration-color: #e87d3e; font-weight: bold\">id</span>=<span style=\"color: #00ff00; text-decoration-color: #00ff00\">'msg_01JiLPRuAt33D6U3ZE49VnAm'</span>,\n",
       "    <span style=\"color: #e87d3e; text-decoration-color: #e87d3e; font-weight: bold\">content</span>=<span style=\"font-weight: bold\">[</span>\n",
       "        <span style=\"color: #ffff00; text-decoration-color: #ffff00\">TextBlock</span><span style=\"font-weight: bold\">(</span>\n",
       "            <span style=\"color: #e87d3e; text-decoration-color: #e87d3e; font-weight: bold\">text</span>=<span style=\"color: #00ff00; text-decoration-color: #00ff00\">'Here are a few ways to get today\\'s day of the week in Python:\\n\\n```python\\n# Method 1: Using </span>\n",
       "<span style=\"color: #00ff00; text-decoration-color: #00ff00\">datetime\\nfrom datetime import datetime\\n\\ndef get_day_of_week</span><span style=\"color: #00ff00; text-decoration-color: #00ff00; font-weight: bold\">()</span><span style=\"color: #00ff00; text-decoration-color: #00ff00\">:\\n    return datetime.now</span><span style=\"color: #00ff00; text-decoration-color: #00ff00; font-weight: bold\">()</span><span style=\"color: #00ff00; text-decoration-color: #00ff00\">.strftime</span><span style=\"color: #00ff00; text-decoration-color: #00ff00; font-weight: bold\">(</span><span style=\"color: #00ff00; text-decoration-color: #00ff00\">\\'%A\\'</span><span style=\"color: #00ff00; text-decoration-color: #00ff00; font-weight: bold\">)</span><span style=\"color: #00ff00; text-decoration-color: #00ff00\">\\n\\n# </span>\n",
       "<span style=\"color: #00ff00; text-decoration-color: #00ff00\">Method 2: Using date from datetime\\nfrom datetime import date\\n\\ndef get_day_of_week2</span><span style=\"color: #00ff00; text-decoration-color: #00ff00; font-weight: bold\">()</span><span style=\"color: #00ff00; text-decoration-color: #00ff00\">:\\n    return </span>\n",
       "<span style=\"color: #00ff00; text-decoration-color: #00ff00\">date.today</span><span style=\"color: #00ff00; text-decoration-color: #00ff00; font-weight: bold\">()</span><span style=\"color: #00ff00; text-decoration-color: #00ff00\">.strftime</span><span style=\"color: #00ff00; text-decoration-color: #00ff00; font-weight: bold\">(</span><span style=\"color: #00ff00; text-decoration-color: #00ff00\">\\'%A\\'</span><span style=\"color: #00ff00; text-decoration-color: #00ff00; font-weight: bold\">)</span><span style=\"color: #00ff00; text-decoration-color: #00ff00\">\\n\\n# Method 3: Using calendar\\nimport calendar\\nfrom datetime import datetime\\n\\ndef </span>\n",
       "<span style=\"color: #00ff00; text-decoration-color: #00ff00\">get_day_of_week3</span><span style=\"color: #00ff00; text-decoration-color: #00ff00; font-weight: bold\">()</span><span style=\"color: #00ff00; text-decoration-color: #00ff00\">:\\n    return calendar.day_name</span><span style=\"color: #00ff00; text-decoration-color: #00ff00; font-weight: bold\">[</span><span style=\"color: #00ff00; text-decoration-color: #00ff00\">datetime.now</span><span style=\"color: #00ff00; text-decoration-color: #00ff00; font-weight: bold\">()</span><span style=\"color: #00ff00; text-decoration-color: #00ff00\">.weekday</span><span style=\"color: #00ff00; text-decoration-color: #00ff00; font-weight: bold\">()]</span><span style=\"color: #00ff00; text-decoration-color: #00ff00\">\\n\\n# Example </span>\n",
       "<span style=\"color: #00ff00; text-decoration-color: #00ff00\">usage:\\nprint</span><span style=\"color: #00ff00; text-decoration-color: #00ff00; font-weight: bold\">(</span><span style=\"color: #00ff00; text-decoration-color: #00ff00\">get_day_of_week</span><span style=\"color: #00ff00; text-decoration-color: #00ff00; font-weight: bold\">())</span><span style=\"color: #00ff00; text-decoration-color: #00ff00\">   # e.g., \"Wednesday\"\\nprint</span><span style=\"color: #00ff00; text-decoration-color: #00ff00; font-weight: bold\">(</span><span style=\"color: #00ff00; text-decoration-color: #00ff00\">get_day_of_week2</span><span style=\"color: #00ff00; text-decoration-color: #00ff00; font-weight: bold\">())</span><span style=\"color: #00ff00; text-decoration-color: #00ff00\">  # e.g., </span>\n",
       "<span style=\"color: #00ff00; text-decoration-color: #00ff00\">\"Wednesday\"\\nprint</span><span style=\"color: #00ff00; text-decoration-color: #00ff00; font-weight: bold\">(</span><span style=\"color: #00ff00; text-decoration-color: #00ff00\">get_day_of_week3</span><span style=\"color: #00ff00; text-decoration-color: #00ff00; font-weight: bold\">())</span><span style=\"color: #00ff00; text-decoration-color: #00ff00\">  # e.g., \"Wednesday\"\\n```\\n\\nEach of these methods will return the current </span>\n",
       "<span style=\"color: #00ff00; text-decoration-color: #00ff00\">day of the week as a string </span><span style=\"color: #00ff00; text-decoration-color: #00ff00; font-weight: bold\">(</span><span style=\"color: #00ff00; text-decoration-color: #00ff00\">like \"Monday\", \"Tuesday\", etc.</span><span style=\"color: #00ff00; text-decoration-color: #00ff00; font-weight: bold\">)</span><span style=\"color: #00ff00; text-decoration-color: #00ff00\">.\\n\\nThe first two methods use strftime</span><span style=\"color: #00ff00; text-decoration-color: #00ff00; font-weight: bold\">()</span><span style=\"color: #00ff00; text-decoration-color: #00ff00\"> with the </span>\n",
       "<span style=\"color: #00ff00; text-decoration-color: #00ff00\">\\'%A\\' format code, which gives the full weekday name. The third method uses the calendar module\\'s day_name list </span>\n",
       "<span style=\"color: #00ff00; text-decoration-color: #00ff00\">indexed by the weekday number </span><span style=\"color: #00ff00; text-decoration-color: #00ff00; font-weight: bold\">(</span><span style=\"color: #00ff00; text-decoration-color: #00ff00\">0-6, where 0 is Monday</span><span style=\"color: #00ff00; text-decoration-color: #00ff00; font-weight: bold\">)</span><span style=\"color: #00ff00; text-decoration-color: #00ff00\">.\\n\\nA simple one-liner version would be:\\n\\n```python\\nfrom </span>\n",
       "<span style=\"color: #00ff00; text-decoration-color: #00ff00\">datetime import datetime\\n\\ndef get_day_of_week</span><span style=\"color: #00ff00; text-decoration-color: #00ff00; font-weight: bold\">()</span><span style=\"color: #00ff00; text-decoration-color: #00ff00\">:\\n    return datetime.now</span><span style=\"color: #00ff00; text-decoration-color: #00ff00; font-weight: bold\">()</span><span style=\"color: #00ff00; text-decoration-color: #00ff00\">.strftime</span><span style=\"color: #00ff00; text-decoration-color: #00ff00; font-weight: bold\">(</span><span style=\"color: #00ff00; text-decoration-color: #00ff00\">\\'%A\\'</span><span style=\"color: #00ff00; text-decoration-color: #00ff00; font-weight: bold\">)</span><span style=\"color: #00ff00; text-decoration-color: #00ff00\">\\n```\\n\\nThis is </span>\n",
       "<span style=\"color: #00ff00; text-decoration-color: #00ff00\">probably the most straightforward and commonly used approach. The function will return the full name of the current</span>\n",
       "<span style=\"color: #00ff00; text-decoration-color: #00ff00\">day of the week.\\n\\nIf you want to get the abbreviated day name </span><span style=\"color: #00ff00; text-decoration-color: #00ff00; font-weight: bold\">(</span><span style=\"color: #00ff00; text-decoration-color: #00ff00\">like \"Sun\", \"Mon\"</span><span style=\"color: #00ff00; text-decoration-color: #00ff00; font-weight: bold\">)</span><span style=\"color: #00ff00; text-decoration-color: #00ff00\">, you can use \\'%a\\' instead of </span>\n",
       "<span style=\"color: #00ff00; text-decoration-color: #00ff00\">\\'%A\\':\\n\\n```python\\nfrom datetime import datetime\\n\\ndef get_short_day_of_week</span><span style=\"color: #00ff00; text-decoration-color: #00ff00; font-weight: bold\">()</span><span style=\"color: #00ff00; text-decoration-color: #00ff00\">:\\n    return </span>\n",
       "<span style=\"color: #00ff00; text-decoration-color: #00ff00\">datetime.now</span><span style=\"color: #00ff00; text-decoration-color: #00ff00; font-weight: bold\">()</span><span style=\"color: #00ff00; text-decoration-color: #00ff00\">.strftime</span><span style=\"color: #00ff00; text-decoration-color: #00ff00; font-weight: bold\">(</span><span style=\"color: #00ff00; text-decoration-color: #00ff00\">\\'%a\\'</span><span style=\"color: #00ff00; text-decoration-color: #00ff00; font-weight: bold\">)</span><span style=\"color: #00ff00; text-decoration-color: #00ff00\">\\n```\\n\\nUsage example:\\n```python\\nprint</span><span style=\"color: #00ff00; text-decoration-color: #00ff00; font-weight: bold\">(</span><span style=\"color: #00ff00; text-decoration-color: #00ff00\">get_day_of_week</span><span style=\"color: #00ff00; text-decoration-color: #00ff00; font-weight: bold\">())</span><span style=\"color: #00ff00; text-decoration-color: #00ff00\">        # e.g., </span>\n",
       "<span style=\"color: #00ff00; text-decoration-color: #00ff00\">\"Wednesday\"\\nprint</span><span style=\"color: #00ff00; text-decoration-color: #00ff00; font-weight: bold\">(</span><span style=\"color: #00ff00; text-decoration-color: #00ff00\">get_short_day_of_week</span><span style=\"color: #00ff00; text-decoration-color: #00ff00; font-weight: bold\">())</span><span style=\"color: #00ff00; text-decoration-color: #00ff00\">  # e.g., \"Wed\"\\n```\\n\\nThe function will automatically use your </span>\n",
       "<span style=\"color: #00ff00; text-decoration-color: #00ff00\">system\\'s locale settings to determine the language of the day names. If you want to ensure English names </span>\n",
       "<span style=\"color: #00ff00; text-decoration-color: #00ff00\">regardless of the system\\'s locale, you can set the locale explicitly:\\n\\n```python\\nimport locale\\nfrom datetime </span>\n",
       "<span style=\"color: #00ff00; text-decoration-color: #00ff00\">import datetime\\n\\ndef get_day_of_week</span><span style=\"color: #00ff00; text-decoration-color: #00ff00; font-weight: bold\">()</span><span style=\"color: #00ff00; text-decoration-color: #00ff00\">:\\n    # Set locale to English\\n    locale.setlocale</span><span style=\"color: #00ff00; text-decoration-color: #00ff00; font-weight: bold\">(</span><span style=\"color: #00ff00; text-decoration-color: #00ff00\">locale.LC_TIME, </span>\n",
       "<span style=\"color: #00ff00; text-decoration-color: #00ff00\">\\'en_US.UTF-8\\'</span><span style=\"color: #00ff00; text-decoration-color: #00ff00; font-weight: bold\">)</span><span style=\"color: #00ff00; text-decoration-color: #00ff00\">\\n    return datetime.now</span><span style=\"color: #00ff00; text-decoration-color: #00ff00; font-weight: bold\">()</span><span style=\"color: #00ff00; text-decoration-color: #00ff00\">.strftime</span><span style=\"color: #00ff00; text-decoration-color: #00ff00; font-weight: bold\">(</span><span style=\"color: #00ff00; text-decoration-color: #00ff00\">\\'%A\\'</span><span style=\"color: #00ff00; text-decoration-color: #00ff00; font-weight: bold\">)</span><span style=\"color: #00ff00; text-decoration-color: #00ff00\">\\n```\\n\\nChoose the method that best suits your needs. </span>\n",
       "<span style=\"color: #00ff00; text-decoration-color: #00ff00\">The first simple version using datetime is usually sufficient for most purposes.'</span>,\n",
       "            <span style=\"color: #e87d3e; text-decoration-color: #e87d3e; font-weight: bold\">type</span>=<span style=\"color: #00ff00; text-decoration-color: #00ff00\">'text'</span>\n",
       "        <span style=\"font-weight: bold\">)</span>\n",
       "    <span style=\"font-weight: bold\">]</span>,\n",
       "    <span style=\"color: #e87d3e; text-decoration-color: #e87d3e; font-weight: bold\">model</span>=<span style=\"color: #00ff00; text-decoration-color: #00ff00\">'claude-3-5-sonnet-20241022'</span>,\n",
       "    <span style=\"color: #e87d3e; text-decoration-color: #e87d3e; font-weight: bold\">role</span>=<span style=\"color: #00ff00; text-decoration-color: #00ff00\">'assistant'</span>,\n",
       "    <span style=\"color: #e87d3e; text-decoration-color: #e87d3e; font-weight: bold\">stop_reason</span>=<span style=\"color: #00ff00; text-decoration-color: #00ff00\">'end_turn'</span>,\n",
       "    <span style=\"color: #e87d3e; text-decoration-color: #e87d3e; font-weight: bold\">stop_sequence</span>=<span style=\"color: #dfdfdf; text-decoration-color: #dfdfdf\">None</span>,\n",
       "    <span style=\"color: #e87d3e; text-decoration-color: #e87d3e; font-weight: bold\">type</span>=<span style=\"color: #00ff00; text-decoration-color: #00ff00\">'message'</span>,\n",
       "    <span style=\"color: #e87d3e; text-decoration-color: #e87d3e; font-weight: bold\">usage</span>=<span style=\"color: #ffff00; text-decoration-color: #ffff00\">Usage</span><span style=\"font-weight: bold\">(</span><span style=\"color: #e87d3e; text-decoration-color: #e87d3e; font-weight: bold\">input_tokens</span>=<span style=\"color: #ff0000; text-decoration-color: #ff0000\">31</span>, <span style=\"color: #e87d3e; text-decoration-color: #e87d3e; font-weight: bold\">output_tokens</span>=<span style=\"color: #ff0000; text-decoration-color: #ff0000\">602</span><span style=\"font-weight: bold\">)</span>\n",
       "<span style=\"font-weight: bold\">)</span>\n",
       "</pre>\n"
      ],
      "text/plain": [
       "\u001b[93mMessage\u001b[0m\u001b[1m(\u001b[0m\n",
       "    \u001b[1;38;2;232;125;62mid\u001b[0m=\u001b[92m'msg_01JiLPRuAt33D6U3ZE49VnAm'\u001b[0m,\n",
       "    \u001b[1;38;2;232;125;62mcontent\u001b[0m=\u001b[1m[\u001b[0m\n",
       "        \u001b[93mTextBlock\u001b[0m\u001b[1m(\u001b[0m\n",
       "            \u001b[1;38;2;232;125;62mtext\u001b[0m=\u001b[92m'Here are a few ways to get today\\'s day of the week in Python:\\n\\n```python\\n# Method 1: Using \u001b[0m\n",
       "\u001b[92mdatetime\\nfrom datetime import datetime\\n\\ndef get_day_of_week\u001b[0m\u001b[1;92m(\u001b[0m\u001b[1;92m)\u001b[0m\u001b[92m:\\n    return datetime.now\u001b[0m\u001b[1;92m(\u001b[0m\u001b[1;92m)\u001b[0m\u001b[92m.strftime\u001b[0m\u001b[1;92m(\u001b[0m\u001b[92m\\'%A\\'\u001b[0m\u001b[1;92m)\u001b[0m\u001b[92m\\n\\n# \u001b[0m\n",
       "\u001b[92mMethod 2: Using date from datetime\\nfrom datetime import date\\n\\ndef get_day_of_week2\u001b[0m\u001b[1;92m(\u001b[0m\u001b[1;92m)\u001b[0m\u001b[92m:\\n    return \u001b[0m\n",
       "\u001b[92mdate.today\u001b[0m\u001b[1;92m(\u001b[0m\u001b[1;92m)\u001b[0m\u001b[92m.strftime\u001b[0m\u001b[1;92m(\u001b[0m\u001b[92m\\'%A\\'\u001b[0m\u001b[1;92m)\u001b[0m\u001b[92m\\n\\n# Method 3: Using calendar\\nimport calendar\\nfrom datetime import datetime\\n\\ndef \u001b[0m\n",
       "\u001b[92mget_day_of_week3\u001b[0m\u001b[1;92m(\u001b[0m\u001b[1;92m)\u001b[0m\u001b[92m:\\n    return calendar.day_name\u001b[0m\u001b[1;92m[\u001b[0m\u001b[92mdatetime.now\u001b[0m\u001b[1;92m(\u001b[0m\u001b[1;92m)\u001b[0m\u001b[92m.weekday\u001b[0m\u001b[1;92m(\u001b[0m\u001b[1;92m)\u001b[0m\u001b[1;92m]\u001b[0m\u001b[92m\\n\\n# Example \u001b[0m\n",
       "\u001b[92musage:\\nprint\u001b[0m\u001b[1;92m(\u001b[0m\u001b[92mget_day_of_week\u001b[0m\u001b[1;92m(\u001b[0m\u001b[1;92m)\u001b[0m\u001b[1;92m)\u001b[0m\u001b[92m   # e.g., \"Wednesday\"\\nprint\u001b[0m\u001b[1;92m(\u001b[0m\u001b[92mget_day_of_week2\u001b[0m\u001b[1;92m(\u001b[0m\u001b[1;92m)\u001b[0m\u001b[1;92m)\u001b[0m\u001b[92m  # e.g., \u001b[0m\n",
       "\u001b[92m\"Wednesday\"\\nprint\u001b[0m\u001b[1;92m(\u001b[0m\u001b[92mget_day_of_week3\u001b[0m\u001b[1;92m(\u001b[0m\u001b[1;92m)\u001b[0m\u001b[1;92m)\u001b[0m\u001b[92m  # e.g., \"Wednesday\"\\n```\\n\\nEach of these methods will return the current \u001b[0m\n",
       "\u001b[92mday of the week as a string \u001b[0m\u001b[1;92m(\u001b[0m\u001b[92mlike \"Monday\", \"Tuesday\", etc.\u001b[0m\u001b[1;92m)\u001b[0m\u001b[92m.\\n\\nThe first two methods use strftime\u001b[0m\u001b[1;92m(\u001b[0m\u001b[1;92m)\u001b[0m\u001b[92m with the \u001b[0m\n",
       "\u001b[92m\\'%A\\' format code, which gives the full weekday name. The third method uses the calendar module\\'s day_name list \u001b[0m\n",
       "\u001b[92mindexed by the weekday number \u001b[0m\u001b[1;92m(\u001b[0m\u001b[92m0-6, where 0 is Monday\u001b[0m\u001b[1;92m)\u001b[0m\u001b[92m.\\n\\nA simple one-liner version would be:\\n\\n```python\\nfrom \u001b[0m\n",
       "\u001b[92mdatetime import datetime\\n\\ndef get_day_of_week\u001b[0m\u001b[1;92m(\u001b[0m\u001b[1;92m)\u001b[0m\u001b[92m:\\n    return datetime.now\u001b[0m\u001b[1;92m(\u001b[0m\u001b[1;92m)\u001b[0m\u001b[92m.strftime\u001b[0m\u001b[1;92m(\u001b[0m\u001b[92m\\'%A\\'\u001b[0m\u001b[1;92m)\u001b[0m\u001b[92m\\n```\\n\\nThis is \u001b[0m\n",
       "\u001b[92mprobably the most straightforward and commonly used approach. The function will return the full name of the current\u001b[0m\n",
       "\u001b[92mday of the week.\\n\\nIf you want to get the abbreviated day name \u001b[0m\u001b[1;92m(\u001b[0m\u001b[92mlike \"Sun\", \"Mon\"\u001b[0m\u001b[1;92m)\u001b[0m\u001b[92m, you can use \\'%a\\' instead of \u001b[0m\n",
       "\u001b[92m\\'%A\\':\\n\\n```python\\nfrom datetime import datetime\\n\\ndef get_short_day_of_week\u001b[0m\u001b[1;92m(\u001b[0m\u001b[1;92m)\u001b[0m\u001b[92m:\\n    return \u001b[0m\n",
       "\u001b[92mdatetime.now\u001b[0m\u001b[1;92m(\u001b[0m\u001b[1;92m)\u001b[0m\u001b[92m.strftime\u001b[0m\u001b[1;92m(\u001b[0m\u001b[92m\\'%a\\'\u001b[0m\u001b[1;92m)\u001b[0m\u001b[92m\\n```\\n\\nUsage example:\\n```python\\nprint\u001b[0m\u001b[1;92m(\u001b[0m\u001b[92mget_day_of_week\u001b[0m\u001b[1;92m(\u001b[0m\u001b[1;92m)\u001b[0m\u001b[1;92m)\u001b[0m\u001b[92m        # e.g., \u001b[0m\n",
       "\u001b[92m\"Wednesday\"\\nprint\u001b[0m\u001b[1;92m(\u001b[0m\u001b[92mget_short_day_of_week\u001b[0m\u001b[1;92m(\u001b[0m\u001b[1;92m)\u001b[0m\u001b[1;92m)\u001b[0m\u001b[92m  # e.g., \"Wed\"\\n```\\n\\nThe function will automatically use your \u001b[0m\n",
       "\u001b[92msystem\\'s locale settings to determine the language of the day names. If you want to ensure English names \u001b[0m\n",
       "\u001b[92mregardless of the system\\'s locale, you can set the locale explicitly:\\n\\n```python\\nimport locale\\nfrom datetime \u001b[0m\n",
       "\u001b[92mimport datetime\\n\\ndef get_day_of_week\u001b[0m\u001b[1;92m(\u001b[0m\u001b[1;92m)\u001b[0m\u001b[92m:\\n    # Set locale to English\\n    locale.setlocale\u001b[0m\u001b[1;92m(\u001b[0m\u001b[92mlocale.LC_TIME, \u001b[0m\n",
       "\u001b[92m\\'en_US.UTF-8\\'\u001b[0m\u001b[1;92m)\u001b[0m\u001b[92m\\n    return datetime.now\u001b[0m\u001b[1;92m(\u001b[0m\u001b[1;92m)\u001b[0m\u001b[92m.strftime\u001b[0m\u001b[1;92m(\u001b[0m\u001b[92m\\'%A\\'\u001b[0m\u001b[1;92m)\u001b[0m\u001b[92m\\n```\\n\\nChoose the method that best suits your needs. \u001b[0m\n",
       "\u001b[92mThe first simple version using datetime is usually sufficient for most purposes.'\u001b[0m,\n",
       "            \u001b[1;38;2;232;125;62mtype\u001b[0m=\u001b[92m'text'\u001b[0m\n",
       "        \u001b[1m)\u001b[0m\n",
       "    \u001b[1m]\u001b[0m,\n",
       "    \u001b[1;38;2;232;125;62mmodel\u001b[0m=\u001b[92m'claude-3-5-sonnet-20241022'\u001b[0m,\n",
       "    \u001b[1;38;2;232;125;62mrole\u001b[0m=\u001b[92m'assistant'\u001b[0m,\n",
       "    \u001b[1;38;2;232;125;62mstop_reason\u001b[0m=\u001b[92m'end_turn'\u001b[0m,\n",
       "    \u001b[1;38;2;232;125;62mstop_sequence\u001b[0m=\u001b[2;37mNone\u001b[0m,\n",
       "    \u001b[1;38;2;232;125;62mtype\u001b[0m=\u001b[92m'message'\u001b[0m,\n",
       "    \u001b[1;38;2;232;125;62musage\u001b[0m=\u001b[93mUsage\u001b[0m\u001b[1m(\u001b[0m\u001b[1;38;2;232;125;62minput_tokens\u001b[0m=\u001b[91m31\u001b[0m, \u001b[1;38;2;232;125;62moutput_tokens\u001b[0m=\u001b[91m602\u001b[0m\u001b[1m)\u001b[0m\n",
       "\u001b[1m)\u001b[0m\n"
      ]
     },
     "metadata": {},
     "output_type": "display_data"
    }
   ],
   "source": [
    "console.print(response)"
   ]
  },
  {
   "cell_type": "code",
   "execution_count": 12,
   "metadata": {},
   "outputs": [],
   "source": [
    "def extract_code_from_llm_response(response_text):\n",
    "    \"\"\"\n",
    "    Extract code between ```python and ``` markers from LLM response text\n",
    "    \n",
    "    Args:\n",
    "        response_text (str): The text response from the LLM containing code blocks\n",
    "        \n",
    "    Returns:\n",
    "        str: The extracted code, or None if no code block is found\n",
    "    \"\"\"\n",
    "    code_start = response_text.find(\"```python\")\n",
    "    if code_start == -1:\n",
    "        code_start = response_text.find(\"```\")\n",
    "    if code_start != -1:\n",
    "        code_start = response_text.find(\"\\n\", code_start) + 1\n",
    "        code_end = response_text.find(\"```\", code_start)\n",
    "        if code_end != -1:\n",
    "            return response_text[code_start:code_end].strip()\n",
    "    return None"
   ]
  },
  {
   "cell_type": "code",
   "execution_count": 13,
   "metadata": {},
   "outputs": [
    {
     "name": "stdout",
     "output_type": "stream",
     "text": [
      "# Method 1: Using datetime\n",
      "from datetime import datetime\n",
      "\n",
      "def get_day_of_week():\n",
      "    return datetime.now().strftime('%A')\n",
      "\n",
      "# Method 2: Using date from datetime\n",
      "from datetime import date\n",
      "\n",
      "def get_day_of_week2():\n",
      "    return date.today().strftime('%A')\n",
      "\n",
      "# Method 3: Using calendar\n",
      "import calendar\n",
      "from datetime import datetime\n",
      "\n",
      "def get_day_of_week3():\n",
      "    return calendar.day_name[datetime.now().weekday()]\n",
      "\n",
      "# Example usage:\n",
      "print(get_day_of_week())   # e.g., \"Wednesday\"\n",
      "print(get_day_of_week2())  # e.g., \"Wednesday\"\n",
      "print(get_day_of_week3())  # e.g., \"Wednesday\"\n"
     ]
    }
   ],
   "source": [
    "# Extract code from the LLM response\n",
    "extracted_code = extract_code_from_llm_response(response.content[0].text)\n",
    "if extracted_code:\n",
    "    print(extracted_code)"
   ]
  },
  {
   "cell_type": "markdown",
   "metadata": {},
   "source": [
    "## Tool Definition for the LLM\n",
    "\n",
    "To allow the LLM to use the tool we need to provide a detailed description of the tool."
   ]
  },
  {
   "cell_type": "code",
   "execution_count": 14,
   "metadata": {},
   "outputs": [],
   "source": [
    "tools = [\n",
    "    {\n",
    "        \"name\": \"get_today_day\",\n",
    "        \"description\": \"Get the day of the week name of today.\",\n",
    "        \"input_schema\": {\n",
    "            \"type\": \"object\",\n",
    "            \"properties\": {}\n",
    "        }\n",
    "    }\n",
    "]"
   ]
  },
  {
   "cell_type": "code",
   "execution_count": 15,
   "metadata": {},
   "outputs": [],
   "source": [
    "user_initial_message = {\n",
    "    \"role\": \"user\", \n",
    "    \"content\": [\n",
    "        {\n",
    "            \"type\": \"text\",\n",
    "            \"text\": user_prompt,\n",
    "        }\n",
    "    ]\n",
    "}"
   ]
  },
  {
   "cell_type": "code",
   "execution_count": 16,
   "metadata": {},
   "outputs": [],
   "source": [
    "messages = []\n",
    "messages.append(user_initial_message)"
   ]
  },
  {
   "cell_type": "markdown",
   "metadata": {},
   "source": [
    "## LLM Flow with Tools (=AI Agent)\n",
    "\n",
    "We will ask the LLM again, but this time we will provide it with a tool."
   ]
  },
  {
   "cell_type": "code",
   "execution_count": 17,
   "metadata": {},
   "outputs": [],
   "source": [
    "response = anthropic_client.messages.create(\n",
    "    model=\"claude-3-5-sonnet-20241022\",\n",
    "    max_tokens=8192,\n",
    "    messages=messages,\n",
    "    tools=tools\n",
    ")"
   ]
  },
  {
   "cell_type": "code",
   "execution_count": 18,
   "metadata": {},
   "outputs": [
    {
     "data": {
      "text/html": [
       "<pre style=\"white-space:pre;overflow-x:auto;line-height:normal;font-family:Menlo,'DejaVu Sans Mono',consolas,'Courier New',monospace\"><span style=\"color: #ffff00; text-decoration-color: #ffff00\">Message</span><span style=\"font-weight: bold\">(</span>\n",
       "    <span style=\"color: #e87d3e; text-decoration-color: #e87d3e; font-weight: bold\">id</span>=<span style=\"color: #00ff00; text-decoration-color: #00ff00\">'msg_01QPXoxwfHjjvuACNYFDbfP1'</span>,\n",
       "    <span style=\"color: #e87d3e; text-decoration-color: #e87d3e; font-weight: bold\">content</span>=<span style=\"font-weight: bold\">[</span>\n",
       "        <span style=\"color: #ffff00; text-decoration-color: #ffff00\">TextBlock</span><span style=\"font-weight: bold\">(</span>\n",
       "            <span style=\"color: #e87d3e; text-decoration-color: #e87d3e; font-weight: bold\">text</span>=<span style=\"color: #00ff00; text-decoration-color: #00ff00\">\"I'll help you find out what day of the week it is today using the get_today_day function.\"</span>,\n",
       "            <span style=\"color: #e87d3e; text-decoration-color: #e87d3e; font-weight: bold\">type</span>=<span style=\"color: #00ff00; text-decoration-color: #00ff00\">'text'</span>\n",
       "        <span style=\"font-weight: bold\">)</span>,\n",
       "        <span style=\"color: #ffff00; text-decoration-color: #ffff00\">ToolUseBlock</span><span style=\"font-weight: bold\">(</span><span style=\"color: #e87d3e; text-decoration-color: #e87d3e; font-weight: bold\">id</span>=<span style=\"color: #00ff00; text-decoration-color: #00ff00\">'toolu_01DfXSZRTYwZroY5iLsQHSXr'</span>, <span style=\"color: #e87d3e; text-decoration-color: #e87d3e; font-weight: bold\">input</span>=<span style=\"font-weight: bold\">{}</span>, <span style=\"color: #e87d3e; text-decoration-color: #e87d3e; font-weight: bold\">name</span>=<span style=\"color: #00ff00; text-decoration-color: #00ff00\">'get_today_day'</span>, <span style=\"color: #e87d3e; text-decoration-color: #e87d3e; font-weight: bold\">type</span>=<span style=\"color: #00ff00; text-decoration-color: #00ff00\">'tool_use'</span><span style=\"font-weight: bold\">)</span>\n",
       "    <span style=\"font-weight: bold\">]</span>,\n",
       "    <span style=\"color: #e87d3e; text-decoration-color: #e87d3e; font-weight: bold\">model</span>=<span style=\"color: #00ff00; text-decoration-color: #00ff00\">'claude-3-5-sonnet-20241022'</span>,\n",
       "    <span style=\"color: #e87d3e; text-decoration-color: #e87d3e; font-weight: bold\">role</span>=<span style=\"color: #00ff00; text-decoration-color: #00ff00\">'assistant'</span>,\n",
       "    <span style=\"color: #e87d3e; text-decoration-color: #e87d3e; font-weight: bold\">stop_reason</span>=<span style=\"color: #00ff00; text-decoration-color: #00ff00\">'tool_use'</span>,\n",
       "    <span style=\"color: #e87d3e; text-decoration-color: #e87d3e; font-weight: bold\">stop_sequence</span>=<span style=\"color: #dfdfdf; text-decoration-color: #dfdfdf\">None</span>,\n",
       "    <span style=\"color: #e87d3e; text-decoration-color: #e87d3e; font-weight: bold\">type</span>=<span style=\"color: #00ff00; text-decoration-color: #00ff00\">'message'</span>,\n",
       "    <span style=\"color: #e87d3e; text-decoration-color: #e87d3e; font-weight: bold\">usage</span>=<span style=\"color: #ffff00; text-decoration-color: #ffff00\">Usage</span><span style=\"font-weight: bold\">(</span><span style=\"color: #e87d3e; text-decoration-color: #e87d3e; font-weight: bold\">input_tokens</span>=<span style=\"color: #ff0000; text-decoration-color: #ff0000\">370</span>, <span style=\"color: #e87d3e; text-decoration-color: #e87d3e; font-weight: bold\">output_tokens</span>=<span style=\"color: #ff0000; text-decoration-color: #ff0000\">62</span><span style=\"font-weight: bold\">)</span>\n",
       "<span style=\"font-weight: bold\">)</span>\n",
       "</pre>\n"
      ],
      "text/plain": [
       "\u001b[93mMessage\u001b[0m\u001b[1m(\u001b[0m\n",
       "    \u001b[1;38;2;232;125;62mid\u001b[0m=\u001b[92m'msg_01QPXoxwfHjjvuACNYFDbfP1'\u001b[0m,\n",
       "    \u001b[1;38;2;232;125;62mcontent\u001b[0m=\u001b[1m[\u001b[0m\n",
       "        \u001b[93mTextBlock\u001b[0m\u001b[1m(\u001b[0m\n",
       "            \u001b[1;38;2;232;125;62mtext\u001b[0m=\u001b[92m\"I\u001b[0m\u001b[92m'll help you find out what day of the week it is today using the get_today_day function.\"\u001b[0m,\n",
       "            \u001b[1;38;2;232;125;62mtype\u001b[0m=\u001b[92m'text'\u001b[0m\n",
       "        \u001b[1m)\u001b[0m,\n",
       "        \u001b[93mToolUseBlock\u001b[0m\u001b[1m(\u001b[0m\u001b[1;38;2;232;125;62mid\u001b[0m=\u001b[92m'toolu_01DfXSZRTYwZroY5iLsQHSXr'\u001b[0m, \u001b[1;38;2;232;125;62minput\u001b[0m=\u001b[1m{\u001b[0m\u001b[1m}\u001b[0m, \u001b[1;38;2;232;125;62mname\u001b[0m=\u001b[92m'get_today_day'\u001b[0m, \u001b[1;38;2;232;125;62mtype\u001b[0m=\u001b[92m'tool_use'\u001b[0m\u001b[1m)\u001b[0m\n",
       "    \u001b[1m]\u001b[0m,\n",
       "    \u001b[1;38;2;232;125;62mmodel\u001b[0m=\u001b[92m'claude-3-5-sonnet-20241022'\u001b[0m,\n",
       "    \u001b[1;38;2;232;125;62mrole\u001b[0m=\u001b[92m'assistant'\u001b[0m,\n",
       "    \u001b[1;38;2;232;125;62mstop_reason\u001b[0m=\u001b[92m'tool_use'\u001b[0m,\n",
       "    \u001b[1;38;2;232;125;62mstop_sequence\u001b[0m=\u001b[2;37mNone\u001b[0m,\n",
       "    \u001b[1;38;2;232;125;62mtype\u001b[0m=\u001b[92m'message'\u001b[0m,\n",
       "    \u001b[1;38;2;232;125;62musage\u001b[0m=\u001b[93mUsage\u001b[0m\u001b[1m(\u001b[0m\u001b[1;38;2;232;125;62minput_tokens\u001b[0m=\u001b[91m370\u001b[0m, \u001b[1;38;2;232;125;62moutput_tokens\u001b[0m=\u001b[91m62\u001b[0m\u001b[1m)\u001b[0m\n",
       "\u001b[1m)\u001b[0m\n"
      ]
     },
     "metadata": {},
     "output_type": "display_data"
    }
   ],
   "source": [
    "console.print(response)"
   ]
  },
  {
   "cell_type": "markdown",
   "metadata": {},
   "source": [
    "### Apply Tool Use request from the LLM\n",
    "\n",
    "We will append the reply from the LLM to the list of messages that includes the initial user questions. We will need it the list of the messages for the next time we call the LLM."
   ]
  },
  {
   "cell_type": "code",
   "execution_count": 19,
   "metadata": {},
   "outputs": [],
   "source": [
    "messages.append({\"role\": \"assistant\", \"content\": response.content})"
   ]
  },
  {
   "cell_type": "code",
   "execution_count": 20,
   "metadata": {},
   "outputs": [
    {
     "name": "stdout",
     "output_type": "stream",
     "text": [
      "\n",
      "Tool Used: get_today_day\n",
      "Tool Input:\n",
      "{}\n"
     ]
    }
   ],
   "source": [
    "if response.stop_reason == \"tool_use\":\n",
    "    tool_use = next(block for block in response.content if block.type == \"tool_use\")\n",
    "    tool_name = tool_use.name\n",
    "    tool_input = tool_use.input\n",
    "    tool_use_id = tool_use.id\n",
    "\n",
    "    print(f\"\\nTool Used: {tool_name}\")\n",
    "    print(\"Tool Input:\")\n",
    "    print(tool_input)\n",
    "\n",
    "    # code_interpreter_results = process_tool_call(e2b_code_interpreter, tool_name, tool_input)\n"
   ]
  },
  {
   "cell_type": "markdown",
   "metadata": {},
   "source": [
    "We will execute the tool per the LLM request here to understand the flow."
   ]
  },
  {
   "cell_type": "code",
   "execution_count": 27,
   "metadata": {},
   "outputs": [
    {
     "data": {
      "text/plain": [
       "'Friday'"
      ]
     },
     "execution_count": 27,
     "metadata": {},
     "output_type": "execute_result"
    }
   ],
   "source": [
    "from datetime import datetime\n",
    "\n",
    "def get_day_of_week():\n",
    "    return datetime.now().strftime('%A')\n",
    "    \n",
    "get_day_of_week()"
   ]
  },
  {
   "cell_type": "code",
   "execution_count": 22,
   "metadata": {},
   "outputs": [],
   "source": [
    "tool_response = {\n",
    "    \"role\": \"user\",\n",
    "    \"content\": [\n",
    "        {\n",
    "        \"type\": \"tool_result\",\n",
    "        \"tool_use_id\": tool_use.id,\n",
    "        \"content\": get_day_of_week()\n",
    "        }\n",
    "    ]\n",
    "}"
   ]
  },
  {
   "cell_type": "markdown",
   "metadata": {},
   "source": [
    "### Tool Response\n",
    "\n",
    "We will append the tool response to the messages list to be sent to the LLM."
   ]
  },
  {
   "cell_type": "code",
   "execution_count": 23,
   "metadata": {},
   "outputs": [],
   "source": [
    "messages.append(tool_response)"
   ]
  },
  {
   "cell_type": "code",
   "execution_count": 24,
   "metadata": {},
   "outputs": [],
   "source": [
    "response = anthropic_client.messages.create(\n",
    "    model=\"claude-3-5-sonnet-20241022\",\n",
    "    max_tokens=8192,\n",
    "    messages=messages,\n",
    "    tools=tools\n",
    ")"
   ]
  },
  {
   "cell_type": "code",
   "execution_count": 25,
   "metadata": {},
   "outputs": [
    {
     "data": {
      "text/html": [
       "<pre style=\"white-space:pre;overflow-x:auto;line-height:normal;font-family:Menlo,'DejaVu Sans Mono',consolas,'Courier New',monospace\"><span style=\"color: #ffff00; text-decoration-color: #ffff00\">Message</span><span style=\"font-weight: bold\">(</span>\n",
       "    <span style=\"color: #e87d3e; text-decoration-color: #e87d3e; font-weight: bold\">id</span>=<span style=\"color: #00ff00; text-decoration-color: #00ff00\">'msg_01MvxhPkydKPGukbN1M2JWc4'</span>,\n",
       "    <span style=\"color: #e87d3e; text-decoration-color: #e87d3e; font-weight: bold\">content</span>=<span style=\"font-weight: bold\">[</span><span style=\"color: #ffff00; text-decoration-color: #ffff00\">TextBlock</span><span style=\"font-weight: bold\">(</span><span style=\"color: #e87d3e; text-decoration-color: #e87d3e; font-weight: bold\">text</span>=<span style=\"color: #00ff00; text-decoration-color: #00ff00\">'Today is Friday.'</span>, <span style=\"color: #e87d3e; text-decoration-color: #e87d3e; font-weight: bold\">type</span>=<span style=\"color: #00ff00; text-decoration-color: #00ff00\">'text'</span><span style=\"font-weight: bold\">)]</span>,\n",
       "    <span style=\"color: #e87d3e; text-decoration-color: #e87d3e; font-weight: bold\">model</span>=<span style=\"color: #00ff00; text-decoration-color: #00ff00\">'claude-3-5-sonnet-20241022'</span>,\n",
       "    <span style=\"color: #e87d3e; text-decoration-color: #e87d3e; font-weight: bold\">role</span>=<span style=\"color: #00ff00; text-decoration-color: #00ff00\">'assistant'</span>,\n",
       "    <span style=\"color: #e87d3e; text-decoration-color: #e87d3e; font-weight: bold\">stop_reason</span>=<span style=\"color: #00ff00; text-decoration-color: #00ff00\">'end_turn'</span>,\n",
       "    <span style=\"color: #e87d3e; text-decoration-color: #e87d3e; font-weight: bold\">stop_sequence</span>=<span style=\"color: #dfdfdf; text-decoration-color: #dfdfdf\">None</span>,\n",
       "    <span style=\"color: #e87d3e; text-decoration-color: #e87d3e; font-weight: bold\">type</span>=<span style=\"color: #00ff00; text-decoration-color: #00ff00\">'message'</span>,\n",
       "    <span style=\"color: #e87d3e; text-decoration-color: #e87d3e; font-weight: bold\">usage</span>=<span style=\"color: #ffff00; text-decoration-color: #ffff00\">Usage</span><span style=\"font-weight: bold\">(</span><span style=\"color: #e87d3e; text-decoration-color: #e87d3e; font-weight: bold\">input_tokens</span>=<span style=\"color: #ff0000; text-decoration-color: #ff0000\">444</span>, <span style=\"color: #e87d3e; text-decoration-color: #e87d3e; font-weight: bold\">output_tokens</span>=<span style=\"color: #ff0000; text-decoration-color: #ff0000\">8</span><span style=\"font-weight: bold\">)</span>\n",
       "<span style=\"font-weight: bold\">)</span>\n",
       "</pre>\n"
      ],
      "text/plain": [
       "\u001b[93mMessage\u001b[0m\u001b[1m(\u001b[0m\n",
       "    \u001b[1;38;2;232;125;62mid\u001b[0m=\u001b[92m'msg_01MvxhPkydKPGukbN1M2JWc4'\u001b[0m,\n",
       "    \u001b[1;38;2;232;125;62mcontent\u001b[0m=\u001b[1m[\u001b[0m\u001b[93mTextBlock\u001b[0m\u001b[1m(\u001b[0m\u001b[1;38;2;232;125;62mtext\u001b[0m=\u001b[92m'Today is Friday.'\u001b[0m, \u001b[1;38;2;232;125;62mtype\u001b[0m=\u001b[92m'text'\u001b[0m\u001b[1m)\u001b[0m\u001b[1m]\u001b[0m,\n",
       "    \u001b[1;38;2;232;125;62mmodel\u001b[0m=\u001b[92m'claude-3-5-sonnet-20241022'\u001b[0m,\n",
       "    \u001b[1;38;2;232;125;62mrole\u001b[0m=\u001b[92m'assistant'\u001b[0m,\n",
       "    \u001b[1;38;2;232;125;62mstop_reason\u001b[0m=\u001b[92m'end_turn'\u001b[0m,\n",
       "    \u001b[1;38;2;232;125;62mstop_sequence\u001b[0m=\u001b[2;37mNone\u001b[0m,\n",
       "    \u001b[1;38;2;232;125;62mtype\u001b[0m=\u001b[92m'message'\u001b[0m,\n",
       "    \u001b[1;38;2;232;125;62musage\u001b[0m=\u001b[93mUsage\u001b[0m\u001b[1m(\u001b[0m\u001b[1;38;2;232;125;62minput_tokens\u001b[0m=\u001b[91m444\u001b[0m, \u001b[1;38;2;232;125;62moutput_tokens\u001b[0m=\u001b[91m8\u001b[0m\u001b[1m)\u001b[0m\n",
       "\u001b[1m)\u001b[0m\n"
      ]
     },
     "metadata": {},
     "output_type": "display_data"
    }
   ],
   "source": [
    "console.print(response)"
   ]
  },
  {
   "cell_type": "markdown",
   "metadata": {},
   "source": [
    "And we got the response to our `What day is today?` question from the LLM without hallucinations."
   ]
  },
  {
   "cell_type": "code",
   "execution_count": 26,
   "metadata": {},
   "outputs": [
    {
     "data": {
      "text/html": [
       "<pre style=\"white-space:pre;overflow-x:auto;line-height:normal;font-family:Menlo,'DejaVu Sans Mono',consolas,'Courier New',monospace\"><span style=\"color: #008000; text-decoration-color: #008000; font-weight: bold\">╭─ What day is today? ─╮</span>\n",
       "<span style=\"color: #008000; text-decoration-color: #008000; font-weight: bold\">│</span>                      <span style=\"color: #008000; text-decoration-color: #008000; font-weight: bold\">│</span>\n",
       "<span style=\"color: #008000; text-decoration-color: #008000; font-weight: bold\">│</span> Today is Friday.     <span style=\"color: #008000; text-decoration-color: #008000; font-weight: bold\">│</span>\n",
       "<span style=\"color: #008000; text-decoration-color: #008000; font-weight: bold\">│</span>                      <span style=\"color: #008000; text-decoration-color: #008000; font-weight: bold\">│</span>\n",
       "<span style=\"color: #008000; text-decoration-color: #008000; font-weight: bold\">╰──────────────────────╯</span>\n",
       "</pre>\n"
      ],
      "text/plain": [
       "\u001b[1;32m╭─\u001b[0m\u001b[1;32m What day is today? \u001b[0m\u001b[1;32m─╮\u001b[0m\n",
       "\u001b[1;32m│\u001b[0m                      \u001b[1;32m│\u001b[0m\n",
       "\u001b[1;32m│\u001b[0m Today is Friday.     \u001b[1;32m│\u001b[0m\n",
       "\u001b[1;32m│\u001b[0m                      \u001b[1;32m│\u001b[0m\n",
       "\u001b[1;32m╰──────────────────────╯\u001b[0m\n"
      ]
     },
     "metadata": {},
     "output_type": "display_data"
    }
   ],
   "source": [
    "response_text = Text(response.content[0].text)\n",
    "styled_panel = Panel(\n",
    "    response_text,\n",
    "    title=f\"{user_prompt}\",\n",
    "    expand=False,\n",
    "    border_style=\"bold green\",\n",
    "    padding=(1, 1)\n",
    ")\n",
    "\n",
    "console.print(styled_panel)"
   ]
  },
  {
   "cell_type": "code",
   "execution_count": null,
   "metadata": {},
   "outputs": [],
   "source": []
  }
 ],
 "metadata": {
  "kernelspec": {
   "display_name": ".venv",
   "language": "python",
   "name": "python3"
  },
  "language_info": {
   "codemirror_mode": {
    "name": "ipython",
    "version": 3
   },
   "file_extension": ".py",
   "mimetype": "text/x-python",
   "name": "python",
   "nbconvert_exporter": "python",
   "pygments_lexer": "ipython3",
   "version": "3.12.3"
  }
 },
 "nbformat": 4,
 "nbformat_minor": 2
}
